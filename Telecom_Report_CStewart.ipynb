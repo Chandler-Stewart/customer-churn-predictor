{
 "cells": [
  {
   "cell_type": "markdown",
   "id": "33bddb3c",
   "metadata": {},
   "source": [
    "# Telecom Customer Churn Evaluation"
   ]
  },
  {
   "cell_type": "markdown",
   "id": "16836770",
   "metadata": {},
   "source": [
    "## Work Plan"
   ]
  },
  {
   "cell_type": "markdown",
   "id": "beb97970",
   "metadata": {},
   "source": [
    "The telecom company Interconnect has asked the Practicum group to help predict its customers' chances of churning so the company may offer promotions to keep them as a customer. \n",
    "\n",
    "This document is the end to end project to create a model designed to predict whether or not customers will decide to cancel their contracts based on a sample of Interconnect's current and past customers."
   ]
  },
  {
   "cell_type": "markdown",
   "id": "4960a24d",
   "metadata": {},
   "source": [
    "Table of Contents\n",
    "1. [Initial Review](#1)  \n",
    "   1.1 [Contract Dataset](#1.1)  \n",
    "   1.2 [Internet Dataset](#1.2)  \n",
    "   1.3 [Personal Dataset](#1.3)  \n",
    "   1.4 [Phone Dataset](#1.4)  \n",
    "   1.5 [Initial Review Conclusions](#1.5)  \n",
    "2. [Preprocessing](#2)  \n",
    "   2.1 [Contract Dataset](#2.1)  \n",
    "   2.2 [Internet Dataset](#2.2)  \n",
    "   2.3 [Personal Dataset](#2.3)  \n",
    "   2.4 [Phone Dataset](#2.4)  \n",
    "   2.5 [Preprocessing Conclusions](#2.5)  \n",
    "3. [Exploratory Data Analysis](#3)  \n",
    "   3.1 [Visualisation](#3.1)  \n",
    "   3.2 [Exploratory Data Analysis Conclusions](#3.2)  \n",
    "4. [Evaluation](#4)  \n",
    "5. [Model Creation](#5)  \n",
    "   5.1 [Further Data Preparation](#5.1)  \n",
    "   5.2 [Model Training](#5.2)  \n",
    "   5.3 [Model Creation Conclusions](#5.3)  \n",
    "6. [Conclusion](#6)  "
   ]
  },
  {
   "cell_type": "markdown",
   "id": "df13c0a5",
   "metadata": {},
   "source": [
    "### 1. Initial Review\n",
    "<a id='1'></a>"
   ]
  },
  {
   "cell_type": "markdown",
   "id": "709cdf69",
   "metadata": {},
   "source": [
    "First, the data needs to be downloaded and reviewed. This either is done by the zip folder locally extracted to the folder of this notebook file, or is done in the datasets folder of the Practicum's back end directory."
   ]
  },
  {
   "cell_type": "code",
   "execution_count": 1,
   "id": "10f43e2f",
   "metadata": {},
   "outputs": [],
   "source": [
    "import pandas as pd\n",
    "import numpy as np\n",
    "import matplotlib.pyplot as plt\n",
    "import seaborn as sns\n",
    "sns.set()\n",
    "\n",
    "from sklearn.model_selection import train_test_split\n",
    "import sklearn.metrics as metrics\n",
    "from imblearn.over_sampling import SMOTE\n",
    "import lightgbm as lgb\n",
    "\n",
    "import warnings\n",
    "warnings.filterwarnings('ignore')\n",
    "\n",
    "\n",
    "try:\n",
    "    contract = pd.read_csv('./final_provider/contract.csv')\n",
    "    internet = pd.read_csv('./final_provider/internet.csv')\n",
    "    personal = pd.read_csv('./final_provider/personal.csv')\n",
    "    phone = pd.read_csv('./final_provider/phone.csv')\n",
    "except:\n",
    "    contract = pd.read_csv('/datasets/final_provider/contract.csv')\n",
    "    internet = pd.read_csv('/datasets/final_provider/internet.csv')\n",
    "    personal = pd.read_csv('/datasets/final_provider/personal.csv')\n",
    "    phone = pd.read_csv('/datasets/final_provider/phone.csv')"
   ]
  },
  {
   "cell_type": "markdown",
   "id": "63309d4b",
   "metadata": {},
   "source": [
    "Next, let's look at each dataset at a high level. This includes checking the datatypes, looking at a few observations, and checking if there are null values or duplicates."
   ]
  },
  {
   "cell_type": "markdown",
   "id": "4ff7d5b4",
   "metadata": {},
   "source": [
    "To check for duplicates, we have found out that every dataset has a `customerID` column. This is an identifying tag to the customers, so there should only be unique values in this column. As such, we just need to verify that there are indeed only unique values."
   ]
  },
  {
   "cell_type": "code",
   "execution_count": 2,
   "id": "64f91551",
   "metadata": {},
   "outputs": [],
   "source": [
    "def check_duplicates(df):\n",
    "    \"\"\"\n",
    "    Checks if there are duplicate customers.\n",
    "\n",
    "    Keyword argument:\n",
    "    df -- the dataframe to check duplicates for (pandas Dataframe)\n",
    "    \"\"\"\n",
    "    \n",
    "    if len(pd.unique(df.customerID)) == df.shape[0]:\n",
    "        print('No Duplicates')\n",
    "    else:\n",
    "        print('Duplicates')\n",
    "    \n",
    "    return "
   ]
  },
  {
   "cell_type": "markdown",
   "id": "a3d88420",
   "metadata": {},
   "source": [
    "#### 1.1 Contract Dataset\n",
    "<a id='1.1'></a>"
   ]
  },
  {
   "cell_type": "code",
   "execution_count": 3,
   "id": "9efe5aad",
   "metadata": {
    "scrolled": true
   },
   "outputs": [
    {
     "name": "stdout",
     "output_type": "stream",
     "text": [
      "<class 'pandas.core.frame.DataFrame'>\n",
      "RangeIndex: 7043 entries, 0 to 7042\n",
      "Data columns (total 8 columns):\n",
      " #   Column            Non-Null Count  Dtype  \n",
      "---  ------            --------------  -----  \n",
      " 0   customerID        7043 non-null   object \n",
      " 1   BeginDate         7043 non-null   object \n",
      " 2   EndDate           7043 non-null   object \n",
      " 3   Type              7043 non-null   object \n",
      " 4   PaperlessBilling  7043 non-null   object \n",
      " 5   PaymentMethod     7043 non-null   object \n",
      " 6   MonthlyCharges    7043 non-null   float64\n",
      " 7   TotalCharges      7043 non-null   object \n",
      "dtypes: float64(1), object(7)\n",
      "memory usage: 440.3+ KB\n"
     ]
    },
    {
     "data": {
      "text/html": [
       "<div>\n",
       "<style scoped>\n",
       "    .dataframe tbody tr th:only-of-type {\n",
       "        vertical-align: middle;\n",
       "    }\n",
       "\n",
       "    .dataframe tbody tr th {\n",
       "        vertical-align: top;\n",
       "    }\n",
       "\n",
       "    .dataframe thead th {\n",
       "        text-align: right;\n",
       "    }\n",
       "</style>\n",
       "<table border=\"1\" class=\"dataframe\">\n",
       "  <thead>\n",
       "    <tr style=\"text-align: right;\">\n",
       "      <th></th>\n",
       "      <th>customerID</th>\n",
       "      <th>BeginDate</th>\n",
       "      <th>EndDate</th>\n",
       "      <th>Type</th>\n",
       "      <th>PaperlessBilling</th>\n",
       "      <th>PaymentMethod</th>\n",
       "      <th>MonthlyCharges</th>\n",
       "      <th>TotalCharges</th>\n",
       "    </tr>\n",
       "  </thead>\n",
       "  <tbody>\n",
       "    <tr>\n",
       "      <th>0</th>\n",
       "      <td>7590-VHVEG</td>\n",
       "      <td>2020-01-01</td>\n",
       "      <td>No</td>\n",
       "      <td>Month-to-month</td>\n",
       "      <td>Yes</td>\n",
       "      <td>Electronic check</td>\n",
       "      <td>29.85</td>\n",
       "      <td>29.85</td>\n",
       "    </tr>\n",
       "    <tr>\n",
       "      <th>1</th>\n",
       "      <td>5575-GNVDE</td>\n",
       "      <td>2017-04-01</td>\n",
       "      <td>No</td>\n",
       "      <td>One year</td>\n",
       "      <td>No</td>\n",
       "      <td>Mailed check</td>\n",
       "      <td>56.95</td>\n",
       "      <td>1889.5</td>\n",
       "    </tr>\n",
       "    <tr>\n",
       "      <th>2</th>\n",
       "      <td>3668-QPYBK</td>\n",
       "      <td>2019-10-01</td>\n",
       "      <td>2019-12-01 00:00:00</td>\n",
       "      <td>Month-to-month</td>\n",
       "      <td>Yes</td>\n",
       "      <td>Mailed check</td>\n",
       "      <td>53.85</td>\n",
       "      <td>108.15</td>\n",
       "    </tr>\n",
       "    <tr>\n",
       "      <th>3</th>\n",
       "      <td>7795-CFOCW</td>\n",
       "      <td>2016-05-01</td>\n",
       "      <td>No</td>\n",
       "      <td>One year</td>\n",
       "      <td>No</td>\n",
       "      <td>Bank transfer (automatic)</td>\n",
       "      <td>42.30</td>\n",
       "      <td>1840.75</td>\n",
       "    </tr>\n",
       "    <tr>\n",
       "      <th>4</th>\n",
       "      <td>9237-HQITU</td>\n",
       "      <td>2019-09-01</td>\n",
       "      <td>2019-11-01 00:00:00</td>\n",
       "      <td>Month-to-month</td>\n",
       "      <td>Yes</td>\n",
       "      <td>Electronic check</td>\n",
       "      <td>70.70</td>\n",
       "      <td>151.65</td>\n",
       "    </tr>\n",
       "  </tbody>\n",
       "</table>\n",
       "</div>"
      ],
      "text/plain": [
       "   customerID   BeginDate              EndDate            Type  \\\n",
       "0  7590-VHVEG  2020-01-01                   No  Month-to-month   \n",
       "1  5575-GNVDE  2017-04-01                   No        One year   \n",
       "2  3668-QPYBK  2019-10-01  2019-12-01 00:00:00  Month-to-month   \n",
       "3  7795-CFOCW  2016-05-01                   No        One year   \n",
       "4  9237-HQITU  2019-09-01  2019-11-01 00:00:00  Month-to-month   \n",
       "\n",
       "  PaperlessBilling              PaymentMethod  MonthlyCharges TotalCharges  \n",
       "0              Yes           Electronic check           29.85        29.85  \n",
       "1               No               Mailed check           56.95       1889.5  \n",
       "2              Yes               Mailed check           53.85       108.15  \n",
       "3               No  Bank transfer (automatic)           42.30      1840.75  \n",
       "4              Yes           Electronic check           70.70       151.65  "
      ]
     },
     "execution_count": 3,
     "metadata": {},
     "output_type": "execute_result"
    }
   ],
   "source": [
    "contract.info()\n",
    "contract.head()"
   ]
  },
  {
   "cell_type": "code",
   "execution_count": 4,
   "id": "6bcfe8d4",
   "metadata": {},
   "outputs": [
    {
     "name": "stdout",
     "output_type": "stream",
     "text": [
      "No Duplicates\n"
     ]
    }
   ],
   "source": [
    "check_duplicates(contract)"
   ]
  },
  {
   "cell_type": "markdown",
   "id": "59b8915a",
   "metadata": {},
   "source": [
    "Under the `contract` dataset, there appears to be no null values or duplicates. There are mixed datetime values and 'No' values in `EndDate` that may become tricky. We can turn the 'No' values to nulls, as pandas let's us manipulate data frequently with the choice of using nulls or not and we will not be giving models datetime types to train on. We will want to create two features however: \n",
    "1. the time from beginning to end of a person's contract that has cancelled their service, and this will have to include the active length of the contracts that are still active.\n",
    "1. a distinctive boolean of whether the contract has been terminated.\n",
    "\n",
    "The other data features are largely boolean, categorical, and numerical amounts, but they almost all seem to be labelled as object datatypes."
   ]
  },
  {
   "cell_type": "markdown",
   "id": "bffc3d92",
   "metadata": {},
   "source": [
    "#### 1.2 Internet Dataset\n",
    "<a id='1.2'></a>"
   ]
  },
  {
   "cell_type": "code",
   "execution_count": 5,
   "id": "3a87f543",
   "metadata": {
    "scrolled": true
   },
   "outputs": [
    {
     "name": "stdout",
     "output_type": "stream",
     "text": [
      "<class 'pandas.core.frame.DataFrame'>\n",
      "RangeIndex: 5517 entries, 0 to 5516\n",
      "Data columns (total 8 columns):\n",
      " #   Column            Non-Null Count  Dtype \n",
      "---  ------            --------------  ----- \n",
      " 0   customerID        5517 non-null   object\n",
      " 1   InternetService   5517 non-null   object\n",
      " 2   OnlineSecurity    5517 non-null   object\n",
      " 3   OnlineBackup      5517 non-null   object\n",
      " 4   DeviceProtection  5517 non-null   object\n",
      " 5   TechSupport       5517 non-null   object\n",
      " 6   StreamingTV       5517 non-null   object\n",
      " 7   StreamingMovies   5517 non-null   object\n",
      "dtypes: object(8)\n",
      "memory usage: 344.9+ KB\n"
     ]
    },
    {
     "data": {
      "text/html": [
       "<div>\n",
       "<style scoped>\n",
       "    .dataframe tbody tr th:only-of-type {\n",
       "        vertical-align: middle;\n",
       "    }\n",
       "\n",
       "    .dataframe tbody tr th {\n",
       "        vertical-align: top;\n",
       "    }\n",
       "\n",
       "    .dataframe thead th {\n",
       "        text-align: right;\n",
       "    }\n",
       "</style>\n",
       "<table border=\"1\" class=\"dataframe\">\n",
       "  <thead>\n",
       "    <tr style=\"text-align: right;\">\n",
       "      <th></th>\n",
       "      <th>customerID</th>\n",
       "      <th>InternetService</th>\n",
       "      <th>OnlineSecurity</th>\n",
       "      <th>OnlineBackup</th>\n",
       "      <th>DeviceProtection</th>\n",
       "      <th>TechSupport</th>\n",
       "      <th>StreamingTV</th>\n",
       "      <th>StreamingMovies</th>\n",
       "    </tr>\n",
       "  </thead>\n",
       "  <tbody>\n",
       "    <tr>\n",
       "      <th>0</th>\n",
       "      <td>7590-VHVEG</td>\n",
       "      <td>DSL</td>\n",
       "      <td>No</td>\n",
       "      <td>Yes</td>\n",
       "      <td>No</td>\n",
       "      <td>No</td>\n",
       "      <td>No</td>\n",
       "      <td>No</td>\n",
       "    </tr>\n",
       "    <tr>\n",
       "      <th>1</th>\n",
       "      <td>5575-GNVDE</td>\n",
       "      <td>DSL</td>\n",
       "      <td>Yes</td>\n",
       "      <td>No</td>\n",
       "      <td>Yes</td>\n",
       "      <td>No</td>\n",
       "      <td>No</td>\n",
       "      <td>No</td>\n",
       "    </tr>\n",
       "    <tr>\n",
       "      <th>2</th>\n",
       "      <td>3668-QPYBK</td>\n",
       "      <td>DSL</td>\n",
       "      <td>Yes</td>\n",
       "      <td>Yes</td>\n",
       "      <td>No</td>\n",
       "      <td>No</td>\n",
       "      <td>No</td>\n",
       "      <td>No</td>\n",
       "    </tr>\n",
       "    <tr>\n",
       "      <th>3</th>\n",
       "      <td>7795-CFOCW</td>\n",
       "      <td>DSL</td>\n",
       "      <td>Yes</td>\n",
       "      <td>No</td>\n",
       "      <td>Yes</td>\n",
       "      <td>Yes</td>\n",
       "      <td>No</td>\n",
       "      <td>No</td>\n",
       "    </tr>\n",
       "    <tr>\n",
       "      <th>4</th>\n",
       "      <td>9237-HQITU</td>\n",
       "      <td>Fiber optic</td>\n",
       "      <td>No</td>\n",
       "      <td>No</td>\n",
       "      <td>No</td>\n",
       "      <td>No</td>\n",
       "      <td>No</td>\n",
       "      <td>No</td>\n",
       "    </tr>\n",
       "  </tbody>\n",
       "</table>\n",
       "</div>"
      ],
      "text/plain": [
       "   customerID InternetService OnlineSecurity OnlineBackup DeviceProtection  \\\n",
       "0  7590-VHVEG             DSL             No          Yes               No   \n",
       "1  5575-GNVDE             DSL            Yes           No              Yes   \n",
       "2  3668-QPYBK             DSL            Yes          Yes               No   \n",
       "3  7795-CFOCW             DSL            Yes           No              Yes   \n",
       "4  9237-HQITU     Fiber optic             No           No               No   \n",
       "\n",
       "  TechSupport StreamingTV StreamingMovies  \n",
       "0          No          No              No  \n",
       "1          No          No              No  \n",
       "2          No          No              No  \n",
       "3         Yes          No              No  \n",
       "4          No          No              No  "
      ]
     },
     "execution_count": 5,
     "metadata": {},
     "output_type": "execute_result"
    }
   ],
   "source": [
    "internet.info()\n",
    "internet.head()"
   ]
  },
  {
   "cell_type": "code",
   "execution_count": 6,
   "id": "721cbd0a",
   "metadata": {},
   "outputs": [
    {
     "name": "stdout",
     "output_type": "stream",
     "text": [
      "No Duplicates\n"
     ]
    }
   ],
   "source": [
    "check_duplicates(internet)"
   ]
  },
  {
   "cell_type": "code",
   "execution_count": 7,
   "id": "24bab389",
   "metadata": {},
   "outputs": [
    {
     "data": {
      "text/plain": [
       "Fiber optic    3096\n",
       "DSL            2421\n",
       "Name: InternetService, dtype: int64"
      ]
     },
     "execution_count": 7,
     "metadata": {},
     "output_type": "execute_result"
    }
   ],
   "source": [
    "internet.InternetService.value_counts()"
   ]
  },
  {
   "cell_type": "markdown",
   "id": "31d2600f",
   "metadata": {},
   "source": [
    "The `internet` dataset has no duplicates, but only appears to have 5517 values. This is due to customers only having phone plans, and not having an internet portion of their contract. The `InternetService` is only 2 values and the other features are booleans. We will likely want to make this entire dataset besides the customerID a boolean."
   ]
  },
  {
   "cell_type": "markdown",
   "id": "c15e4347",
   "metadata": {},
   "source": [
    "#### 1.3 Personal Dataset\n",
    "<a id='1.3'></a>"
   ]
  },
  {
   "cell_type": "code",
   "execution_count": 8,
   "id": "80381f31",
   "metadata": {
    "scrolled": true
   },
   "outputs": [
    {
     "name": "stdout",
     "output_type": "stream",
     "text": [
      "<class 'pandas.core.frame.DataFrame'>\n",
      "RangeIndex: 7043 entries, 0 to 7042\n",
      "Data columns (total 5 columns):\n",
      " #   Column         Non-Null Count  Dtype \n",
      "---  ------         --------------  ----- \n",
      " 0   customerID     7043 non-null   object\n",
      " 1   gender         7043 non-null   object\n",
      " 2   SeniorCitizen  7043 non-null   int64 \n",
      " 3   Partner        7043 non-null   object\n",
      " 4   Dependents     7043 non-null   object\n",
      "dtypes: int64(1), object(4)\n",
      "memory usage: 275.2+ KB\n"
     ]
    },
    {
     "data": {
      "text/html": [
       "<div>\n",
       "<style scoped>\n",
       "    .dataframe tbody tr th:only-of-type {\n",
       "        vertical-align: middle;\n",
       "    }\n",
       "\n",
       "    .dataframe tbody tr th {\n",
       "        vertical-align: top;\n",
       "    }\n",
       "\n",
       "    .dataframe thead th {\n",
       "        text-align: right;\n",
       "    }\n",
       "</style>\n",
       "<table border=\"1\" class=\"dataframe\">\n",
       "  <thead>\n",
       "    <tr style=\"text-align: right;\">\n",
       "      <th></th>\n",
       "      <th>customerID</th>\n",
       "      <th>gender</th>\n",
       "      <th>SeniorCitizen</th>\n",
       "      <th>Partner</th>\n",
       "      <th>Dependents</th>\n",
       "    </tr>\n",
       "  </thead>\n",
       "  <tbody>\n",
       "    <tr>\n",
       "      <th>0</th>\n",
       "      <td>7590-VHVEG</td>\n",
       "      <td>Female</td>\n",
       "      <td>0</td>\n",
       "      <td>Yes</td>\n",
       "      <td>No</td>\n",
       "    </tr>\n",
       "    <tr>\n",
       "      <th>1</th>\n",
       "      <td>5575-GNVDE</td>\n",
       "      <td>Male</td>\n",
       "      <td>0</td>\n",
       "      <td>No</td>\n",
       "      <td>No</td>\n",
       "    </tr>\n",
       "    <tr>\n",
       "      <th>2</th>\n",
       "      <td>3668-QPYBK</td>\n",
       "      <td>Male</td>\n",
       "      <td>0</td>\n",
       "      <td>No</td>\n",
       "      <td>No</td>\n",
       "    </tr>\n",
       "    <tr>\n",
       "      <th>3</th>\n",
       "      <td>7795-CFOCW</td>\n",
       "      <td>Male</td>\n",
       "      <td>0</td>\n",
       "      <td>No</td>\n",
       "      <td>No</td>\n",
       "    </tr>\n",
       "    <tr>\n",
       "      <th>4</th>\n",
       "      <td>9237-HQITU</td>\n",
       "      <td>Female</td>\n",
       "      <td>0</td>\n",
       "      <td>No</td>\n",
       "      <td>No</td>\n",
       "    </tr>\n",
       "  </tbody>\n",
       "</table>\n",
       "</div>"
      ],
      "text/plain": [
       "   customerID  gender  SeniorCitizen Partner Dependents\n",
       "0  7590-VHVEG  Female              0     Yes         No\n",
       "1  5575-GNVDE    Male              0      No         No\n",
       "2  3668-QPYBK    Male              0      No         No\n",
       "3  7795-CFOCW    Male              0      No         No\n",
       "4  9237-HQITU  Female              0      No         No"
      ]
     },
     "execution_count": 8,
     "metadata": {},
     "output_type": "execute_result"
    }
   ],
   "source": [
    "personal.info()\n",
    "personal.head()"
   ]
  },
  {
   "cell_type": "code",
   "execution_count": 9,
   "id": "6b4286ae",
   "metadata": {},
   "outputs": [
    {
     "name": "stdout",
     "output_type": "stream",
     "text": [
      "No Duplicates\n"
     ]
    }
   ],
   "source": [
    "check_duplicates(personal)"
   ]
  },
  {
   "cell_type": "markdown",
   "id": "b2d172f1",
   "metadata": {},
   "source": [
    "All 7043 customers and their information are accounted for. Similarly to the internet plan, the gender is an either/or categorical feature and the others are yes or no type values. These will be turned into booleans."
   ]
  },
  {
   "cell_type": "markdown",
   "id": "716c0153",
   "metadata": {},
   "source": [
    "#### 1.4 Phone Dataset\n",
    "<a id='1.4'></a>"
   ]
  },
  {
   "cell_type": "code",
   "execution_count": 10,
   "id": "dc802a51",
   "metadata": {
    "scrolled": true
   },
   "outputs": [
    {
     "name": "stdout",
     "output_type": "stream",
     "text": [
      "<class 'pandas.core.frame.DataFrame'>\n",
      "RangeIndex: 6361 entries, 0 to 6360\n",
      "Data columns (total 2 columns):\n",
      " #   Column         Non-Null Count  Dtype \n",
      "---  ------         --------------  ----- \n",
      " 0   customerID     6361 non-null   object\n",
      " 1   MultipleLines  6361 non-null   object\n",
      "dtypes: object(2)\n",
      "memory usage: 99.5+ KB\n"
     ]
    },
    {
     "data": {
      "text/html": [
       "<div>\n",
       "<style scoped>\n",
       "    .dataframe tbody tr th:only-of-type {\n",
       "        vertical-align: middle;\n",
       "    }\n",
       "\n",
       "    .dataframe tbody tr th {\n",
       "        vertical-align: top;\n",
       "    }\n",
       "\n",
       "    .dataframe thead th {\n",
       "        text-align: right;\n",
       "    }\n",
       "</style>\n",
       "<table border=\"1\" class=\"dataframe\">\n",
       "  <thead>\n",
       "    <tr style=\"text-align: right;\">\n",
       "      <th></th>\n",
       "      <th>customerID</th>\n",
       "      <th>MultipleLines</th>\n",
       "    </tr>\n",
       "  </thead>\n",
       "  <tbody>\n",
       "    <tr>\n",
       "      <th>0</th>\n",
       "      <td>5575-GNVDE</td>\n",
       "      <td>No</td>\n",
       "    </tr>\n",
       "    <tr>\n",
       "      <th>1</th>\n",
       "      <td>3668-QPYBK</td>\n",
       "      <td>No</td>\n",
       "    </tr>\n",
       "    <tr>\n",
       "      <th>2</th>\n",
       "      <td>9237-HQITU</td>\n",
       "      <td>No</td>\n",
       "    </tr>\n",
       "    <tr>\n",
       "      <th>3</th>\n",
       "      <td>9305-CDSKC</td>\n",
       "      <td>Yes</td>\n",
       "    </tr>\n",
       "    <tr>\n",
       "      <th>4</th>\n",
       "      <td>1452-KIOVK</td>\n",
       "      <td>Yes</td>\n",
       "    </tr>\n",
       "  </tbody>\n",
       "</table>\n",
       "</div>"
      ],
      "text/plain": [
       "   customerID MultipleLines\n",
       "0  5575-GNVDE            No\n",
       "1  3668-QPYBK            No\n",
       "2  9237-HQITU            No\n",
       "3  9305-CDSKC           Yes\n",
       "4  1452-KIOVK           Yes"
      ]
     },
     "execution_count": 10,
     "metadata": {},
     "output_type": "execute_result"
    }
   ],
   "source": [
    "phone.info()\n",
    "phone.head()"
   ]
  },
  {
   "cell_type": "code",
   "execution_count": 11,
   "id": "9ce856dc",
   "metadata": {},
   "outputs": [
    {
     "name": "stdout",
     "output_type": "stream",
     "text": [
      "No Duplicates\n"
     ]
    }
   ],
   "source": [
    "check_duplicates(phone)"
   ]
  },
  {
   "cell_type": "markdown",
   "id": "c1140a3b",
   "metadata": {},
   "source": [
    "Like the `internet` dataset, the `phone` dataset is a smaller section of the sample, due to what the contract entailed. This dataset, beyond the `customerID`, has one feature that is a boolean that is whether the plan includes multiple lines or not. "
   ]
  },
  {
   "cell_type": "markdown",
   "id": "8e5f6197",
   "metadata": {},
   "source": [
    "Lastly, lets check to make sure that all of these observations in each dataset are from one sample. "
   ]
  },
  {
   "cell_type": "code",
   "execution_count": 12,
   "id": "5278c7e3",
   "metadata": {},
   "outputs": [
    {
     "name": "stdout",
     "output_type": "stream",
     "text": [
      "All contracts match our personal data\n"
     ]
    }
   ],
   "source": [
    "if personal.customerID.equals(contract.customerID):\n",
    "    print('All contracts match our personal data')"
   ]
  },
  {
   "cell_type": "code",
   "execution_count": 13,
   "id": "83bd8104",
   "metadata": {
    "scrolled": true
   },
   "outputs": [
    {
     "name": "stdout",
     "output_type": "stream",
     "text": [
      "All phone contracts are accounted for\n",
      "All internet contracts are accounted for\n"
     ]
    }
   ],
   "source": [
    "if personal.customerID.isin(phone.customerID).sum() == len(phone.customerID):\n",
    "    print('All phone contracts are accounted for')\n",
    "    \n",
    "if personal.customerID.isin(internet.customerID).sum() == len(internet.customerID):\n",
    "    print('All internet contracts are accounted for')"
   ]
  },
  {
   "cell_type": "markdown",
   "id": "cd7b48d8",
   "metadata": {},
   "source": [
    "All of the customers in the contracts are also in the personal information dataset. Additionally, the internet and phone contract customers are also in the personal information dataset."
   ]
  },
  {
   "cell_type": "markdown",
   "id": "3f893a43",
   "metadata": {},
   "source": [
    "#### 1.5 Initial Review Conclusions\n",
    "<a id='1.5'></a>"
   ]
  },
  {
   "cell_type": "markdown",
   "id": "af49e5d9",
   "metadata": {},
   "source": [
    "The datasets seem relatively clean already. There are no duplicates or nulls in any of the datasets, and all of the customers seem to be accounted for. A lot of datatypes will need to be reworked, as a lot of boolean type categories are strings instead. We will take care of this in the next steps."
   ]
  },
  {
   "cell_type": "markdown",
   "id": "1c34fea5",
   "metadata": {},
   "source": [
    "### 2. Preprocessing\n",
    "<a id='2'></a>"
   ]
  },
  {
   "cell_type": "markdown",
   "id": "5fb29009",
   "metadata": {},
   "source": [
    "We know that a large portion of our columns are object datatypes when they should be a boolean value. As such, we will write the following function, `col_to_bool`, to alter columns values and types to True/False boolean values."
   ]
  },
  {
   "cell_type": "code",
   "execution_count": 14,
   "id": "83f677a3",
   "metadata": {},
   "outputs": [],
   "source": [
    "def col_to_bool(df, cols, positive, negative):\n",
    "    '''\n",
    "    Remaps columns with the same type of 'True/False' distinctions\n",
    "    \n",
    "    Keyword arguments:\n",
    "    df -- the dataframe that the columns are being updated (pandas Dataframe)\n",
    "    cols -- column names (as strings) that will be updated (list)\n",
    "    positive -- the positive label that will be remapped to the boolean value True (int or str)\n",
    "    negative -- the negative label that will be remapped to the boolean value False (int or str)\n",
    "    '''\n",
    "    for col in cols:\n",
    "        df[col] = df[col].map({positive:True, negative:False})\n",
    "        df[col] = df[col].astype(bool)\n",
    "    return "
   ]
  },
  {
   "cell_type": "markdown",
   "id": "7e3d9e18",
   "metadata": {},
   "source": [
    "#### 2.1 Contract Dataset\n",
    "<a id='2.1'></a>"
   ]
  },
  {
   "cell_type": "markdown",
   "id": "cb761845",
   "metadata": {},
   "source": [
    "From our initial review, we learned that the only yes or no column in the `contract` dataset was whether or not the customer's contract included paperless billing or not."
   ]
  },
  {
   "cell_type": "code",
   "execution_count": 15,
   "id": "0eb57dc9",
   "metadata": {},
   "outputs": [
    {
     "data": {
      "text/plain": [
       "dtype('bool')"
      ]
     },
     "execution_count": 15,
     "metadata": {},
     "output_type": "execute_result"
    }
   ],
   "source": [
    "col_to_bool(contract, cols=['PaperlessBilling'], positive='Yes', negative='No')\n",
    "contract.PaperlessBilling.dtype"
   ]
  },
  {
   "cell_type": "markdown",
   "id": "85cfc19f",
   "metadata": {},
   "source": [
    "Now we know our function works. Next we want to manipulate the churn information, like the contract dates and whether or not they actually cancelled their accounts as of this information pull."
   ]
  },
  {
   "cell_type": "markdown",
   "id": "0510710e",
   "metadata": {},
   "source": [
    "First, let's turn our `BeginDate` and `EndDate` columns to datetime datatypes. For now, let's force the 'No' values in the `EndDate` column to null values, to make our operations between these dates easier."
   ]
  },
  {
   "cell_type": "code",
   "execution_count": 16,
   "id": "599a7ddb",
   "metadata": {},
   "outputs": [],
   "source": [
    "contract['BeginDate'] = pd.to_datetime(contract['BeginDate'], errors='raise', format='%Y-%m-%d')\n",
    "contract['EndDate'] = pd.to_datetime(contract['EndDate'], errors='coerce', format='%Y-%m-%d')"
   ]
  },
  {
   "cell_type": "markdown",
   "id": "abf391d2",
   "metadata": {},
   "source": [
    "Now that we have this, we can create our columns depicting the length of the contract and whether or not the customer is considered \"churned\" or not. "
   ]
  },
  {
   "cell_type": "code",
   "execution_count": 17,
   "id": "bf148019",
   "metadata": {},
   "outputs": [],
   "source": [
    "LengthOfContract = contract['EndDate'] - contract['BeginDate'] # nulls force nulls in the LengthOfContract series as well\n",
    "Churned = LengthOfContract.notna()\n",
    "contract.insert(3, 'LengthOfContract', LengthOfContract)\n",
    "contract.insert(4, 'Churned', Churned)"
   ]
  },
  {
   "cell_type": "markdown",
   "id": "6d13bee1",
   "metadata": {},
   "source": [
    "Now that the cancellation distinction has been made in the new `Churned` column, let's fill in the missing `LengthOfContract` values with the time that this data was pulled."
   ]
  },
  {
   "cell_type": "code",
   "execution_count": 18,
   "id": "5906f911",
   "metadata": {
    "scrolled": true
   },
   "outputs": [],
   "source": [
    "data_pull = pd.to_datetime('2020-02-01', format='%Y-%m-%d')\n",
    "contract['LengthOfContract'] = contract['LengthOfContract'].fillna(data_pull - contract.BeginDate)"
   ]
  },
  {
   "cell_type": "markdown",
   "id": "bf53825f",
   "metadata": {},
   "source": [
    "To finish of this portion of preprocessing, we should turn the datetime days that are the `LengthOfContract` values into integers for our eventual model."
   ]
  },
  {
   "cell_type": "code",
   "execution_count": 19,
   "id": "70350ca6",
   "metadata": {},
   "outputs": [
    {
     "data": {
      "text/html": [
       "<div>\n",
       "<style scoped>\n",
       "    .dataframe tbody tr th:only-of-type {\n",
       "        vertical-align: middle;\n",
       "    }\n",
       "\n",
       "    .dataframe tbody tr th {\n",
       "        vertical-align: top;\n",
       "    }\n",
       "\n",
       "    .dataframe thead th {\n",
       "        text-align: right;\n",
       "    }\n",
       "</style>\n",
       "<table border=\"1\" class=\"dataframe\">\n",
       "  <thead>\n",
       "    <tr style=\"text-align: right;\">\n",
       "      <th></th>\n",
       "      <th>customerID</th>\n",
       "      <th>BeginDate</th>\n",
       "      <th>EndDate</th>\n",
       "      <th>LengthOfContract</th>\n",
       "      <th>Churned</th>\n",
       "      <th>Type</th>\n",
       "      <th>PaperlessBilling</th>\n",
       "      <th>PaymentMethod</th>\n",
       "      <th>MonthlyCharges</th>\n",
       "      <th>TotalCharges</th>\n",
       "    </tr>\n",
       "  </thead>\n",
       "  <tbody>\n",
       "    <tr>\n",
       "      <th>0</th>\n",
       "      <td>7590-VHVEG</td>\n",
       "      <td>2020-01-01</td>\n",
       "      <td>NaT</td>\n",
       "      <td>31</td>\n",
       "      <td>False</td>\n",
       "      <td>Month-to-month</td>\n",
       "      <td>True</td>\n",
       "      <td>Electronic check</td>\n",
       "      <td>29.85</td>\n",
       "      <td>29.85</td>\n",
       "    </tr>\n",
       "    <tr>\n",
       "      <th>1</th>\n",
       "      <td>5575-GNVDE</td>\n",
       "      <td>2017-04-01</td>\n",
       "      <td>NaT</td>\n",
       "      <td>1036</td>\n",
       "      <td>False</td>\n",
       "      <td>One year</td>\n",
       "      <td>False</td>\n",
       "      <td>Mailed check</td>\n",
       "      <td>56.95</td>\n",
       "      <td>1889.5</td>\n",
       "    </tr>\n",
       "    <tr>\n",
       "      <th>2</th>\n",
       "      <td>3668-QPYBK</td>\n",
       "      <td>2019-10-01</td>\n",
       "      <td>2019-12-01</td>\n",
       "      <td>61</td>\n",
       "      <td>True</td>\n",
       "      <td>Month-to-month</td>\n",
       "      <td>True</td>\n",
       "      <td>Mailed check</td>\n",
       "      <td>53.85</td>\n",
       "      <td>108.15</td>\n",
       "    </tr>\n",
       "    <tr>\n",
       "      <th>3</th>\n",
       "      <td>7795-CFOCW</td>\n",
       "      <td>2016-05-01</td>\n",
       "      <td>NaT</td>\n",
       "      <td>1371</td>\n",
       "      <td>False</td>\n",
       "      <td>One year</td>\n",
       "      <td>False</td>\n",
       "      <td>Bank transfer (automatic)</td>\n",
       "      <td>42.30</td>\n",
       "      <td>1840.75</td>\n",
       "    </tr>\n",
       "    <tr>\n",
       "      <th>4</th>\n",
       "      <td>9237-HQITU</td>\n",
       "      <td>2019-09-01</td>\n",
       "      <td>2019-11-01</td>\n",
       "      <td>61</td>\n",
       "      <td>True</td>\n",
       "      <td>Month-to-month</td>\n",
       "      <td>True</td>\n",
       "      <td>Electronic check</td>\n",
       "      <td>70.70</td>\n",
       "      <td>151.65</td>\n",
       "    </tr>\n",
       "  </tbody>\n",
       "</table>\n",
       "</div>"
      ],
      "text/plain": [
       "   customerID  BeginDate    EndDate  LengthOfContract  Churned  \\\n",
       "0  7590-VHVEG 2020-01-01        NaT                31    False   \n",
       "1  5575-GNVDE 2017-04-01        NaT              1036    False   \n",
       "2  3668-QPYBK 2019-10-01 2019-12-01                61     True   \n",
       "3  7795-CFOCW 2016-05-01        NaT              1371    False   \n",
       "4  9237-HQITU 2019-09-01 2019-11-01                61     True   \n",
       "\n",
       "             Type  PaperlessBilling              PaymentMethod  \\\n",
       "0  Month-to-month              True           Electronic check   \n",
       "1        One year             False               Mailed check   \n",
       "2  Month-to-month              True               Mailed check   \n",
       "3        One year             False  Bank transfer (automatic)   \n",
       "4  Month-to-month              True           Electronic check   \n",
       "\n",
       "   MonthlyCharges TotalCharges  \n",
       "0           29.85        29.85  \n",
       "1           56.95       1889.5  \n",
       "2           53.85       108.15  \n",
       "3           42.30      1840.75  \n",
       "4           70.70       151.65  "
      ]
     },
     "execution_count": 19,
     "metadata": {},
     "output_type": "execute_result"
    }
   ],
   "source": [
    "contract['LengthOfContract'] = contract['LengthOfContract'].dt.days\n",
    "contract.head()"
   ]
  },
  {
   "cell_type": "markdown",
   "id": "d0e704f5",
   "metadata": {},
   "source": [
    "Our `TotalCharges` column is an object, but if we look at the values, we may find out why."
   ]
  },
  {
   "cell_type": "code",
   "execution_count": 20,
   "id": "a79beff8",
   "metadata": {},
   "outputs": [
    {
     "data": {
      "text/plain": [
       "20.2       11\n",
       "           11\n",
       "19.75       9\n",
       "20.05       8\n",
       "19.9        8\n",
       "           ..\n",
       "493.95      1\n",
       "418.3       1\n",
       "6397.6      1\n",
       "2642.05     1\n",
       "6093.3      1\n",
       "Name: TotalCharges, Length: 6531, dtype: int64"
      ]
     },
     "execution_count": 20,
     "metadata": {},
     "output_type": "execute_result"
    }
   ],
   "source": [
    "contract['TotalCharges'].value_counts()"
   ]
  },
  {
   "cell_type": "markdown",
   "id": "8364a815",
   "metadata": {},
   "source": [
    "there is a value of a single space as a string that is blocking our datatype change. It may be that the charge has not fully gone through yet, as they may be new customers as of this sample creation. Let's verify this."
   ]
  },
  {
   "cell_type": "code",
   "execution_count": 21,
   "id": "35b144e0",
   "metadata": {},
   "outputs": [
    {
     "data": {
      "text/html": [
       "<div>\n",
       "<style scoped>\n",
       "    .dataframe tbody tr th:only-of-type {\n",
       "        vertical-align: middle;\n",
       "    }\n",
       "\n",
       "    .dataframe tbody tr th {\n",
       "        vertical-align: top;\n",
       "    }\n",
       "\n",
       "    .dataframe thead th {\n",
       "        text-align: right;\n",
       "    }\n",
       "</style>\n",
       "<table border=\"1\" class=\"dataframe\">\n",
       "  <thead>\n",
       "    <tr style=\"text-align: right;\">\n",
       "      <th></th>\n",
       "      <th>customerID</th>\n",
       "      <th>BeginDate</th>\n",
       "      <th>EndDate</th>\n",
       "      <th>LengthOfContract</th>\n",
       "      <th>Churned</th>\n",
       "      <th>Type</th>\n",
       "      <th>PaperlessBilling</th>\n",
       "      <th>PaymentMethod</th>\n",
       "      <th>MonthlyCharges</th>\n",
       "      <th>TotalCharges</th>\n",
       "    </tr>\n",
       "  </thead>\n",
       "  <tbody>\n",
       "    <tr>\n",
       "      <th>488</th>\n",
       "      <td>4472-LVYGI</td>\n",
       "      <td>2020-02-01</td>\n",
       "      <td>NaT</td>\n",
       "      <td>0</td>\n",
       "      <td>False</td>\n",
       "      <td>Two year</td>\n",
       "      <td>True</td>\n",
       "      <td>Bank transfer (automatic)</td>\n",
       "      <td>52.55</td>\n",
       "      <td></td>\n",
       "    </tr>\n",
       "    <tr>\n",
       "      <th>753</th>\n",
       "      <td>3115-CZMZD</td>\n",
       "      <td>2020-02-01</td>\n",
       "      <td>NaT</td>\n",
       "      <td>0</td>\n",
       "      <td>False</td>\n",
       "      <td>Two year</td>\n",
       "      <td>False</td>\n",
       "      <td>Mailed check</td>\n",
       "      <td>20.25</td>\n",
       "      <td></td>\n",
       "    </tr>\n",
       "    <tr>\n",
       "      <th>936</th>\n",
       "      <td>5709-LVOEQ</td>\n",
       "      <td>2020-02-01</td>\n",
       "      <td>NaT</td>\n",
       "      <td>0</td>\n",
       "      <td>False</td>\n",
       "      <td>Two year</td>\n",
       "      <td>False</td>\n",
       "      <td>Mailed check</td>\n",
       "      <td>80.85</td>\n",
       "      <td></td>\n",
       "    </tr>\n",
       "    <tr>\n",
       "      <th>1082</th>\n",
       "      <td>4367-NUYAO</td>\n",
       "      <td>2020-02-01</td>\n",
       "      <td>NaT</td>\n",
       "      <td>0</td>\n",
       "      <td>False</td>\n",
       "      <td>Two year</td>\n",
       "      <td>False</td>\n",
       "      <td>Mailed check</td>\n",
       "      <td>25.75</td>\n",
       "      <td></td>\n",
       "    </tr>\n",
       "    <tr>\n",
       "      <th>1340</th>\n",
       "      <td>1371-DWPAZ</td>\n",
       "      <td>2020-02-01</td>\n",
       "      <td>NaT</td>\n",
       "      <td>0</td>\n",
       "      <td>False</td>\n",
       "      <td>Two year</td>\n",
       "      <td>False</td>\n",
       "      <td>Credit card (automatic)</td>\n",
       "      <td>56.05</td>\n",
       "      <td></td>\n",
       "    </tr>\n",
       "    <tr>\n",
       "      <th>3331</th>\n",
       "      <td>7644-OMVMY</td>\n",
       "      <td>2020-02-01</td>\n",
       "      <td>NaT</td>\n",
       "      <td>0</td>\n",
       "      <td>False</td>\n",
       "      <td>Two year</td>\n",
       "      <td>False</td>\n",
       "      <td>Mailed check</td>\n",
       "      <td>19.85</td>\n",
       "      <td></td>\n",
       "    </tr>\n",
       "    <tr>\n",
       "      <th>3826</th>\n",
       "      <td>3213-VVOLG</td>\n",
       "      <td>2020-02-01</td>\n",
       "      <td>NaT</td>\n",
       "      <td>0</td>\n",
       "      <td>False</td>\n",
       "      <td>Two year</td>\n",
       "      <td>False</td>\n",
       "      <td>Mailed check</td>\n",
       "      <td>25.35</td>\n",
       "      <td></td>\n",
       "    </tr>\n",
       "    <tr>\n",
       "      <th>4380</th>\n",
       "      <td>2520-SGTTA</td>\n",
       "      <td>2020-02-01</td>\n",
       "      <td>NaT</td>\n",
       "      <td>0</td>\n",
       "      <td>False</td>\n",
       "      <td>Two year</td>\n",
       "      <td>False</td>\n",
       "      <td>Mailed check</td>\n",
       "      <td>20.00</td>\n",
       "      <td></td>\n",
       "    </tr>\n",
       "    <tr>\n",
       "      <th>5218</th>\n",
       "      <td>2923-ARZLG</td>\n",
       "      <td>2020-02-01</td>\n",
       "      <td>NaT</td>\n",
       "      <td>0</td>\n",
       "      <td>False</td>\n",
       "      <td>One year</td>\n",
       "      <td>True</td>\n",
       "      <td>Mailed check</td>\n",
       "      <td>19.70</td>\n",
       "      <td></td>\n",
       "    </tr>\n",
       "    <tr>\n",
       "      <th>6670</th>\n",
       "      <td>4075-WKNIU</td>\n",
       "      <td>2020-02-01</td>\n",
       "      <td>NaT</td>\n",
       "      <td>0</td>\n",
       "      <td>False</td>\n",
       "      <td>Two year</td>\n",
       "      <td>False</td>\n",
       "      <td>Mailed check</td>\n",
       "      <td>73.35</td>\n",
       "      <td></td>\n",
       "    </tr>\n",
       "    <tr>\n",
       "      <th>6754</th>\n",
       "      <td>2775-SEFEE</td>\n",
       "      <td>2020-02-01</td>\n",
       "      <td>NaT</td>\n",
       "      <td>0</td>\n",
       "      <td>False</td>\n",
       "      <td>Two year</td>\n",
       "      <td>True</td>\n",
       "      <td>Bank transfer (automatic)</td>\n",
       "      <td>61.90</td>\n",
       "      <td></td>\n",
       "    </tr>\n",
       "  </tbody>\n",
       "</table>\n",
       "</div>"
      ],
      "text/plain": [
       "      customerID  BeginDate EndDate  LengthOfContract  Churned      Type  \\\n",
       "488   4472-LVYGI 2020-02-01     NaT                 0    False  Two year   \n",
       "753   3115-CZMZD 2020-02-01     NaT                 0    False  Two year   \n",
       "936   5709-LVOEQ 2020-02-01     NaT                 0    False  Two year   \n",
       "1082  4367-NUYAO 2020-02-01     NaT                 0    False  Two year   \n",
       "1340  1371-DWPAZ 2020-02-01     NaT                 0    False  Two year   \n",
       "3331  7644-OMVMY 2020-02-01     NaT                 0    False  Two year   \n",
       "3826  3213-VVOLG 2020-02-01     NaT                 0    False  Two year   \n",
       "4380  2520-SGTTA 2020-02-01     NaT                 0    False  Two year   \n",
       "5218  2923-ARZLG 2020-02-01     NaT                 0    False  One year   \n",
       "6670  4075-WKNIU 2020-02-01     NaT                 0    False  Two year   \n",
       "6754  2775-SEFEE 2020-02-01     NaT                 0    False  Two year   \n",
       "\n",
       "      PaperlessBilling              PaymentMethod  MonthlyCharges TotalCharges  \n",
       "488               True  Bank transfer (automatic)           52.55               \n",
       "753              False               Mailed check           20.25               \n",
       "936              False               Mailed check           80.85               \n",
       "1082             False               Mailed check           25.75               \n",
       "1340             False    Credit card (automatic)           56.05               \n",
       "3331             False               Mailed check           19.85               \n",
       "3826             False               Mailed check           25.35               \n",
       "4380             False               Mailed check           20.00               \n",
       "5218              True               Mailed check           19.70               \n",
       "6670             False               Mailed check           73.35               \n",
       "6754              True  Bank transfer (automatic)           61.90               "
      ]
     },
     "execution_count": 21,
     "metadata": {},
     "output_type": "execute_result"
    }
   ],
   "source": [
    "contract[contract['TotalCharges'] == ' ']"
   ]
  },
  {
   "cell_type": "code",
   "execution_count": 22,
   "id": "60c36513",
   "metadata": {
    "scrolled": true
   },
   "outputs": [
    {
     "data": {
      "text/html": [
       "<div>\n",
       "<style scoped>\n",
       "    .dataframe tbody tr th:only-of-type {\n",
       "        vertical-align: middle;\n",
       "    }\n",
       "\n",
       "    .dataframe tbody tr th {\n",
       "        vertical-align: top;\n",
       "    }\n",
       "\n",
       "    .dataframe thead th {\n",
       "        text-align: right;\n",
       "    }\n",
       "</style>\n",
       "<table border=\"1\" class=\"dataframe\">\n",
       "  <thead>\n",
       "    <tr style=\"text-align: right;\">\n",
       "      <th></th>\n",
       "      <th>customerID</th>\n",
       "      <th>BeginDate</th>\n",
       "      <th>EndDate</th>\n",
       "      <th>LengthOfContract</th>\n",
       "      <th>Churned</th>\n",
       "      <th>Type</th>\n",
       "      <th>PaperlessBilling</th>\n",
       "      <th>PaymentMethod</th>\n",
       "      <th>MonthlyCharges</th>\n",
       "      <th>TotalCharges</th>\n",
       "    </tr>\n",
       "  </thead>\n",
       "  <tbody>\n",
       "    <tr>\n",
       "      <th>488</th>\n",
       "      <td>4472-LVYGI</td>\n",
       "      <td>2020-02-01</td>\n",
       "      <td>NaT</td>\n",
       "      <td>0</td>\n",
       "      <td>False</td>\n",
       "      <td>Two year</td>\n",
       "      <td>True</td>\n",
       "      <td>Bank transfer (automatic)</td>\n",
       "      <td>52.55</td>\n",
       "      <td></td>\n",
       "    </tr>\n",
       "    <tr>\n",
       "      <th>753</th>\n",
       "      <td>3115-CZMZD</td>\n",
       "      <td>2020-02-01</td>\n",
       "      <td>NaT</td>\n",
       "      <td>0</td>\n",
       "      <td>False</td>\n",
       "      <td>Two year</td>\n",
       "      <td>False</td>\n",
       "      <td>Mailed check</td>\n",
       "      <td>20.25</td>\n",
       "      <td></td>\n",
       "    </tr>\n",
       "    <tr>\n",
       "      <th>936</th>\n",
       "      <td>5709-LVOEQ</td>\n",
       "      <td>2020-02-01</td>\n",
       "      <td>NaT</td>\n",
       "      <td>0</td>\n",
       "      <td>False</td>\n",
       "      <td>Two year</td>\n",
       "      <td>False</td>\n",
       "      <td>Mailed check</td>\n",
       "      <td>80.85</td>\n",
       "      <td></td>\n",
       "    </tr>\n",
       "    <tr>\n",
       "      <th>1082</th>\n",
       "      <td>4367-NUYAO</td>\n",
       "      <td>2020-02-01</td>\n",
       "      <td>NaT</td>\n",
       "      <td>0</td>\n",
       "      <td>False</td>\n",
       "      <td>Two year</td>\n",
       "      <td>False</td>\n",
       "      <td>Mailed check</td>\n",
       "      <td>25.75</td>\n",
       "      <td></td>\n",
       "    </tr>\n",
       "    <tr>\n",
       "      <th>1340</th>\n",
       "      <td>1371-DWPAZ</td>\n",
       "      <td>2020-02-01</td>\n",
       "      <td>NaT</td>\n",
       "      <td>0</td>\n",
       "      <td>False</td>\n",
       "      <td>Two year</td>\n",
       "      <td>False</td>\n",
       "      <td>Credit card (automatic)</td>\n",
       "      <td>56.05</td>\n",
       "      <td></td>\n",
       "    </tr>\n",
       "    <tr>\n",
       "      <th>3331</th>\n",
       "      <td>7644-OMVMY</td>\n",
       "      <td>2020-02-01</td>\n",
       "      <td>NaT</td>\n",
       "      <td>0</td>\n",
       "      <td>False</td>\n",
       "      <td>Two year</td>\n",
       "      <td>False</td>\n",
       "      <td>Mailed check</td>\n",
       "      <td>19.85</td>\n",
       "      <td></td>\n",
       "    </tr>\n",
       "    <tr>\n",
       "      <th>3826</th>\n",
       "      <td>3213-VVOLG</td>\n",
       "      <td>2020-02-01</td>\n",
       "      <td>NaT</td>\n",
       "      <td>0</td>\n",
       "      <td>False</td>\n",
       "      <td>Two year</td>\n",
       "      <td>False</td>\n",
       "      <td>Mailed check</td>\n",
       "      <td>25.35</td>\n",
       "      <td></td>\n",
       "    </tr>\n",
       "    <tr>\n",
       "      <th>4380</th>\n",
       "      <td>2520-SGTTA</td>\n",
       "      <td>2020-02-01</td>\n",
       "      <td>NaT</td>\n",
       "      <td>0</td>\n",
       "      <td>False</td>\n",
       "      <td>Two year</td>\n",
       "      <td>False</td>\n",
       "      <td>Mailed check</td>\n",
       "      <td>20.00</td>\n",
       "      <td></td>\n",
       "    </tr>\n",
       "    <tr>\n",
       "      <th>5218</th>\n",
       "      <td>2923-ARZLG</td>\n",
       "      <td>2020-02-01</td>\n",
       "      <td>NaT</td>\n",
       "      <td>0</td>\n",
       "      <td>False</td>\n",
       "      <td>One year</td>\n",
       "      <td>True</td>\n",
       "      <td>Mailed check</td>\n",
       "      <td>19.70</td>\n",
       "      <td></td>\n",
       "    </tr>\n",
       "    <tr>\n",
       "      <th>6670</th>\n",
       "      <td>4075-WKNIU</td>\n",
       "      <td>2020-02-01</td>\n",
       "      <td>NaT</td>\n",
       "      <td>0</td>\n",
       "      <td>False</td>\n",
       "      <td>Two year</td>\n",
       "      <td>False</td>\n",
       "      <td>Mailed check</td>\n",
       "      <td>73.35</td>\n",
       "      <td></td>\n",
       "    </tr>\n",
       "    <tr>\n",
       "      <th>6754</th>\n",
       "      <td>2775-SEFEE</td>\n",
       "      <td>2020-02-01</td>\n",
       "      <td>NaT</td>\n",
       "      <td>0</td>\n",
       "      <td>False</td>\n",
       "      <td>Two year</td>\n",
       "      <td>True</td>\n",
       "      <td>Bank transfer (automatic)</td>\n",
       "      <td>61.90</td>\n",
       "      <td></td>\n",
       "    </tr>\n",
       "  </tbody>\n",
       "</table>\n",
       "</div>"
      ],
      "text/plain": [
       "      customerID  BeginDate EndDate  LengthOfContract  Churned      Type  \\\n",
       "488   4472-LVYGI 2020-02-01     NaT                 0    False  Two year   \n",
       "753   3115-CZMZD 2020-02-01     NaT                 0    False  Two year   \n",
       "936   5709-LVOEQ 2020-02-01     NaT                 0    False  Two year   \n",
       "1082  4367-NUYAO 2020-02-01     NaT                 0    False  Two year   \n",
       "1340  1371-DWPAZ 2020-02-01     NaT                 0    False  Two year   \n",
       "3331  7644-OMVMY 2020-02-01     NaT                 0    False  Two year   \n",
       "3826  3213-VVOLG 2020-02-01     NaT                 0    False  Two year   \n",
       "4380  2520-SGTTA 2020-02-01     NaT                 0    False  Two year   \n",
       "5218  2923-ARZLG 2020-02-01     NaT                 0    False  One year   \n",
       "6670  4075-WKNIU 2020-02-01     NaT                 0    False  Two year   \n",
       "6754  2775-SEFEE 2020-02-01     NaT                 0    False  Two year   \n",
       "\n",
       "      PaperlessBilling              PaymentMethod  MonthlyCharges TotalCharges  \n",
       "488               True  Bank transfer (automatic)           52.55               \n",
       "753              False               Mailed check           20.25               \n",
       "936              False               Mailed check           80.85               \n",
       "1082             False               Mailed check           25.75               \n",
       "1340             False    Credit card (automatic)           56.05               \n",
       "3331             False               Mailed check           19.85               \n",
       "3826             False               Mailed check           25.35               \n",
       "4380             False               Mailed check           20.00               \n",
       "5218              True               Mailed check           19.70               \n",
       "6670             False               Mailed check           73.35               \n",
       "6754              True  Bank transfer (automatic)           61.90               "
      ]
     },
     "execution_count": 22,
     "metadata": {},
     "output_type": "execute_result"
    }
   ],
   "source": [
    "contract[contract['BeginDate'] == '2020-02-01']"
   ]
  },
  {
   "cell_type": "markdown",
   "id": "8aeaf3f7",
   "metadata": {},
   "source": [
    "As expected, the contracts with missing Total Charges are the most recent dates we have available, meaning their first payments on their bills may not have occured at the time of this data pull. As they are all one or two year contracts, they are likely willing to go longer than a month since there is a month-to-month option. It would be safe to say that we could populate this with their Monthly Charge amount.\n",
    "\n",
    "When we downcast the `TotalCharges` and `MonthlyCharges` columns, we can just force the `' '` values to nulls, and then fill the null values with their monthly charges. "
   ]
  },
  {
   "cell_type": "code",
   "execution_count": 23,
   "id": "8f752492",
   "metadata": {
    "scrolled": true
   },
   "outputs": [],
   "source": [
    "contract['MonthlyCharges'] = pd.to_numeric(contract['MonthlyCharges'], downcast='float')\n",
    "contract['TotalCharges'] = pd.to_numeric(contract['TotalCharges'], errors='coerce', downcast='float')\n",
    "contract['TotalCharges'] = contract['TotalCharges'].fillna(contract['MonthlyCharges'])"
   ]
  },
  {
   "cell_type": "markdown",
   "id": "b260f338",
   "metadata": {},
   "source": [
    "Next, let's create numerical representations of the categorical columns `Type` and `PaymentMethod`. We can achieve this by doing one-hot encoding, so that each category becomes its own column and is represented by a boolean as to whether or not it is the representative characteristic of the contract."
   ]
  },
  {
   "cell_type": "code",
   "execution_count": 24,
   "id": "e9856046",
   "metadata": {},
   "outputs": [],
   "source": [
    "types_oh = pd.get_dummies(contract.Type, prefix='type', drop_first=True).astype(bool)\n",
    "payments_oh = pd.get_dummies(contract.PaymentMethod, prefix='payment', drop_first=True).astype(bool)"
   ]
  },
  {
   "cell_type": "code",
   "execution_count": 25,
   "id": "cb088e3c",
   "metadata": {},
   "outputs": [],
   "source": [
    "contract = contract.join([types_oh, payments_oh])\n",
    "contract.drop(['Type', 'PaymentMethod'], axis=1, inplace=True)"
   ]
  },
  {
   "cell_type": "markdown",
   "id": "eb878807",
   "metadata": {},
   "source": [
    "Lastly, we identified in the initial review that not all customers have both phone and internet plans. This should be represented in the `contract` dataset as another few booleans."
   ]
  },
  {
   "cell_type": "code",
   "execution_count": 26,
   "id": "7eb34219",
   "metadata": {},
   "outputs": [],
   "source": [
    "contract['phone'] = contract.customerID.isin(phone.customerID)\n",
    "contract['internet'] = contract.customerID.isin(internet.customerID)"
   ]
  },
  {
   "cell_type": "code",
   "execution_count": 27,
   "id": "6c10616f",
   "metadata": {},
   "outputs": [
    {
     "name": "stdout",
     "output_type": "stream",
     "text": [
      "<class 'pandas.core.frame.DataFrame'>\n",
      "RangeIndex: 7043 entries, 0 to 7042\n",
      "Data columns (total 15 columns):\n",
      " #   Column                           Non-Null Count  Dtype         \n",
      "---  ------                           --------------  -----         \n",
      " 0   customerID                       7043 non-null   object        \n",
      " 1   BeginDate                        7043 non-null   datetime64[ns]\n",
      " 2   EndDate                          1869 non-null   datetime64[ns]\n",
      " 3   LengthOfContract                 7043 non-null   int64         \n",
      " 4   Churned                          7043 non-null   bool          \n",
      " 5   PaperlessBilling                 7043 non-null   bool          \n",
      " 6   MonthlyCharges                   7043 non-null   float32       \n",
      " 7   TotalCharges                     7043 non-null   float32       \n",
      " 8   type_One year                    7043 non-null   bool          \n",
      " 9   type_Two year                    7043 non-null   bool          \n",
      " 10  payment_Credit card (automatic)  7043 non-null   bool          \n",
      " 11  payment_Electronic check         7043 non-null   bool          \n",
      " 12  payment_Mailed check             7043 non-null   bool          \n",
      " 13  phone                            7043 non-null   bool          \n",
      " 14  internet                         7043 non-null   bool          \n",
      "dtypes: bool(9), datetime64[ns](2), float32(2), int64(1), object(1)\n",
      "memory usage: 337.1+ KB\n"
     ]
    },
    {
     "data": {
      "text/html": [
       "<div>\n",
       "<style scoped>\n",
       "    .dataframe tbody tr th:only-of-type {\n",
       "        vertical-align: middle;\n",
       "    }\n",
       "\n",
       "    .dataframe tbody tr th {\n",
       "        vertical-align: top;\n",
       "    }\n",
       "\n",
       "    .dataframe thead th {\n",
       "        text-align: right;\n",
       "    }\n",
       "</style>\n",
       "<table border=\"1\" class=\"dataframe\">\n",
       "  <thead>\n",
       "    <tr style=\"text-align: right;\">\n",
       "      <th></th>\n",
       "      <th>customerID</th>\n",
       "      <th>BeginDate</th>\n",
       "      <th>EndDate</th>\n",
       "      <th>LengthOfContract</th>\n",
       "      <th>Churned</th>\n",
       "      <th>PaperlessBilling</th>\n",
       "      <th>MonthlyCharges</th>\n",
       "      <th>TotalCharges</th>\n",
       "      <th>type_One year</th>\n",
       "      <th>type_Two year</th>\n",
       "      <th>payment_Credit card (automatic)</th>\n",
       "      <th>payment_Electronic check</th>\n",
       "      <th>payment_Mailed check</th>\n",
       "      <th>phone</th>\n",
       "      <th>internet</th>\n",
       "    </tr>\n",
       "  </thead>\n",
       "  <tbody>\n",
       "    <tr>\n",
       "      <th>0</th>\n",
       "      <td>7590-VHVEG</td>\n",
       "      <td>2020-01-01</td>\n",
       "      <td>NaT</td>\n",
       "      <td>31</td>\n",
       "      <td>False</td>\n",
       "      <td>True</td>\n",
       "      <td>29.850000</td>\n",
       "      <td>29.850000</td>\n",
       "      <td>False</td>\n",
       "      <td>False</td>\n",
       "      <td>False</td>\n",
       "      <td>True</td>\n",
       "      <td>False</td>\n",
       "      <td>False</td>\n",
       "      <td>True</td>\n",
       "    </tr>\n",
       "    <tr>\n",
       "      <th>1</th>\n",
       "      <td>5575-GNVDE</td>\n",
       "      <td>2017-04-01</td>\n",
       "      <td>NaT</td>\n",
       "      <td>1036</td>\n",
       "      <td>False</td>\n",
       "      <td>False</td>\n",
       "      <td>56.950001</td>\n",
       "      <td>1889.500000</td>\n",
       "      <td>True</td>\n",
       "      <td>False</td>\n",
       "      <td>False</td>\n",
       "      <td>False</td>\n",
       "      <td>True</td>\n",
       "      <td>True</td>\n",
       "      <td>True</td>\n",
       "    </tr>\n",
       "    <tr>\n",
       "      <th>2</th>\n",
       "      <td>3668-QPYBK</td>\n",
       "      <td>2019-10-01</td>\n",
       "      <td>2019-12-01</td>\n",
       "      <td>61</td>\n",
       "      <td>True</td>\n",
       "      <td>True</td>\n",
       "      <td>53.849998</td>\n",
       "      <td>108.150002</td>\n",
       "      <td>False</td>\n",
       "      <td>False</td>\n",
       "      <td>False</td>\n",
       "      <td>False</td>\n",
       "      <td>True</td>\n",
       "      <td>True</td>\n",
       "      <td>True</td>\n",
       "    </tr>\n",
       "    <tr>\n",
       "      <th>3</th>\n",
       "      <td>7795-CFOCW</td>\n",
       "      <td>2016-05-01</td>\n",
       "      <td>NaT</td>\n",
       "      <td>1371</td>\n",
       "      <td>False</td>\n",
       "      <td>False</td>\n",
       "      <td>42.299999</td>\n",
       "      <td>1840.750000</td>\n",
       "      <td>True</td>\n",
       "      <td>False</td>\n",
       "      <td>False</td>\n",
       "      <td>False</td>\n",
       "      <td>False</td>\n",
       "      <td>False</td>\n",
       "      <td>True</td>\n",
       "    </tr>\n",
       "    <tr>\n",
       "      <th>4</th>\n",
       "      <td>9237-HQITU</td>\n",
       "      <td>2019-09-01</td>\n",
       "      <td>2019-11-01</td>\n",
       "      <td>61</td>\n",
       "      <td>True</td>\n",
       "      <td>True</td>\n",
       "      <td>70.699997</td>\n",
       "      <td>151.649994</td>\n",
       "      <td>False</td>\n",
       "      <td>False</td>\n",
       "      <td>False</td>\n",
       "      <td>True</td>\n",
       "      <td>False</td>\n",
       "      <td>True</td>\n",
       "      <td>True</td>\n",
       "    </tr>\n",
       "  </tbody>\n",
       "</table>\n",
       "</div>"
      ],
      "text/plain": [
       "   customerID  BeginDate    EndDate  LengthOfContract  Churned  \\\n",
       "0  7590-VHVEG 2020-01-01        NaT                31    False   \n",
       "1  5575-GNVDE 2017-04-01        NaT              1036    False   \n",
       "2  3668-QPYBK 2019-10-01 2019-12-01                61     True   \n",
       "3  7795-CFOCW 2016-05-01        NaT              1371    False   \n",
       "4  9237-HQITU 2019-09-01 2019-11-01                61     True   \n",
       "\n",
       "   PaperlessBilling  MonthlyCharges  TotalCharges  type_One year  \\\n",
       "0              True       29.850000     29.850000          False   \n",
       "1             False       56.950001   1889.500000           True   \n",
       "2              True       53.849998    108.150002          False   \n",
       "3             False       42.299999   1840.750000           True   \n",
       "4              True       70.699997    151.649994          False   \n",
       "\n",
       "   type_Two year  payment_Credit card (automatic)  payment_Electronic check  \\\n",
       "0          False                            False                      True   \n",
       "1          False                            False                     False   \n",
       "2          False                            False                     False   \n",
       "3          False                            False                     False   \n",
       "4          False                            False                      True   \n",
       "\n",
       "   payment_Mailed check  phone  internet  \n",
       "0                 False  False      True  \n",
       "1                  True   True      True  \n",
       "2                  True   True      True  \n",
       "3                 False  False      True  \n",
       "4                 False   True      True  "
      ]
     },
     "execution_count": 27,
     "metadata": {},
     "output_type": "execute_result"
    }
   ],
   "source": [
    "contract.info()\n",
    "contract.head()"
   ]
  },
  {
   "cell_type": "markdown",
   "id": "b6848b80",
   "metadata": {},
   "source": [
    "The `contract` dataset has now been properly prepared for our exploratory data analysis and model training."
   ]
  },
  {
   "cell_type": "markdown",
   "id": "3d8de23f",
   "metadata": {},
   "source": [
    "#### 2.2 Personal Dataset\n",
    "<a id='2.2'></a>"
   ]
  },
  {
   "cell_type": "markdown",
   "id": "2ab9937f",
   "metadata": {},
   "source": [
    "Again, a large portion of the `personal` dataset is either/or data or boolean data. Let's fix this now."
   ]
  },
  {
   "cell_type": "code",
   "execution_count": 28,
   "id": "8d9f7d11",
   "metadata": {
    "scrolled": true
   },
   "outputs": [],
   "source": [
    "# changing gender to a boolean of whether a customer is female or not\n",
    "col_to_bool(personal, ['gender'], 'Female', 'Male')\n",
    "personal.rename(columns={'gender':'Female'}, inplace=True)\n",
    "\n",
    "# changing the senior citizen from 1/0 to True/False\n",
    "col_to_bool(personal, ['SeniorCitizen'], '1', '0')\n",
    "\n",
    "# changing the yes/no values of Partner and Dependents to True/False\n",
    "col_to_bool(personal, ['Partner', 'Dependents'], 'Yes', 'No')"
   ]
  },
  {
   "cell_type": "code",
   "execution_count": 29,
   "id": "9955f4c2",
   "metadata": {},
   "outputs": [
    {
     "name": "stdout",
     "output_type": "stream",
     "text": [
      "<class 'pandas.core.frame.DataFrame'>\n",
      "RangeIndex: 7043 entries, 0 to 7042\n",
      "Data columns (total 5 columns):\n",
      " #   Column         Non-Null Count  Dtype \n",
      "---  ------         --------------  ----- \n",
      " 0   customerID     7043 non-null   object\n",
      " 1   Female         7043 non-null   bool  \n",
      " 2   SeniorCitizen  7043 non-null   bool  \n",
      " 3   Partner        7043 non-null   bool  \n",
      " 4   Dependents     7043 non-null   bool  \n",
      "dtypes: bool(4), object(1)\n",
      "memory usage: 82.7+ KB\n"
     ]
    },
    {
     "data": {
      "text/html": [
       "<div>\n",
       "<style scoped>\n",
       "    .dataframe tbody tr th:only-of-type {\n",
       "        vertical-align: middle;\n",
       "    }\n",
       "\n",
       "    .dataframe tbody tr th {\n",
       "        vertical-align: top;\n",
       "    }\n",
       "\n",
       "    .dataframe thead th {\n",
       "        text-align: right;\n",
       "    }\n",
       "</style>\n",
       "<table border=\"1\" class=\"dataframe\">\n",
       "  <thead>\n",
       "    <tr style=\"text-align: right;\">\n",
       "      <th></th>\n",
       "      <th>customerID</th>\n",
       "      <th>Female</th>\n",
       "      <th>SeniorCitizen</th>\n",
       "      <th>Partner</th>\n",
       "      <th>Dependents</th>\n",
       "    </tr>\n",
       "  </thead>\n",
       "  <tbody>\n",
       "    <tr>\n",
       "      <th>0</th>\n",
       "      <td>7590-VHVEG</td>\n",
       "      <td>True</td>\n",
       "      <td>True</td>\n",
       "      <td>True</td>\n",
       "      <td>False</td>\n",
       "    </tr>\n",
       "    <tr>\n",
       "      <th>1</th>\n",
       "      <td>5575-GNVDE</td>\n",
       "      <td>False</td>\n",
       "      <td>True</td>\n",
       "      <td>False</td>\n",
       "      <td>False</td>\n",
       "    </tr>\n",
       "    <tr>\n",
       "      <th>2</th>\n",
       "      <td>3668-QPYBK</td>\n",
       "      <td>False</td>\n",
       "      <td>True</td>\n",
       "      <td>False</td>\n",
       "      <td>False</td>\n",
       "    </tr>\n",
       "    <tr>\n",
       "      <th>3</th>\n",
       "      <td>7795-CFOCW</td>\n",
       "      <td>False</td>\n",
       "      <td>True</td>\n",
       "      <td>False</td>\n",
       "      <td>False</td>\n",
       "    </tr>\n",
       "    <tr>\n",
       "      <th>4</th>\n",
       "      <td>9237-HQITU</td>\n",
       "      <td>True</td>\n",
       "      <td>True</td>\n",
       "      <td>False</td>\n",
       "      <td>False</td>\n",
       "    </tr>\n",
       "  </tbody>\n",
       "</table>\n",
       "</div>"
      ],
      "text/plain": [
       "   customerID  Female  SeniorCitizen  Partner  Dependents\n",
       "0  7590-VHVEG    True           True     True       False\n",
       "1  5575-GNVDE   False           True    False       False\n",
       "2  3668-QPYBK   False           True    False       False\n",
       "3  7795-CFOCW   False           True    False       False\n",
       "4  9237-HQITU    True           True    False       False"
      ]
     },
     "execution_count": 29,
     "metadata": {},
     "output_type": "execute_result"
    }
   ],
   "source": [
    "personal.info()\n",
    "personal.head()"
   ]
  },
  {
   "cell_type": "markdown",
   "id": "dc9599a6",
   "metadata": {},
   "source": [
    "As that was the only issue noticed in the data review, the `personal` dataset is properly processed."
   ]
  },
  {
   "cell_type": "markdown",
   "id": "77230558",
   "metadata": {},
   "source": [
    "#### 2.3 Internet Dataset\n",
    "<a id='2.3'></a>"
   ]
  },
  {
   "cell_type": "markdown",
   "id": "416fbdc0",
   "metadata": {},
   "source": [
    "A majority of the columns were identified as boolean in nature in the `internet` dataset, so let's fix the datatypes."
   ]
  },
  {
   "cell_type": "code",
   "execution_count": 30,
   "id": "0002fb29",
   "metadata": {
    "scrolled": true
   },
   "outputs": [],
   "source": [
    "col_to_bool(internet, ['OnlineSecurity', 'OnlineBackup', 'DeviceProtection', 'TechSupport', \\\n",
    "                       'StreamingTV', 'StreamingMovies'], 'Yes', 'No')"
   ]
  },
  {
   "cell_type": "markdown",
   "id": "ef2f6922",
   "metadata": {},
   "source": [
    "Similarly to the categorical values in the `contract` dataset, we have a column identifying whether or not a customer has a DSL or Fiber optic connection. \n",
    "\n",
    "It is typical to drop the first category during one-hot encoding, to avoid over-weighing a category. Because we know there is technically a third option of neither if a customer does not have an internet plan, we should not drop the first category. If we create a one-hot encoding that only represents if a contract is DSL or not, a contract without an internet plan will be represented similarly to a contract with a Fiber optic plan."
   ]
  },
  {
   "cell_type": "code",
   "execution_count": 31,
   "id": "898316b3",
   "metadata": {
    "scrolled": true
   },
   "outputs": [
    {
     "data": {
      "text/html": [
       "<div>\n",
       "<style scoped>\n",
       "    .dataframe tbody tr th:only-of-type {\n",
       "        vertical-align: middle;\n",
       "    }\n",
       "\n",
       "    .dataframe tbody tr th {\n",
       "        vertical-align: top;\n",
       "    }\n",
       "\n",
       "    .dataframe thead th {\n",
       "        text-align: right;\n",
       "    }\n",
       "</style>\n",
       "<table border=\"1\" class=\"dataframe\">\n",
       "  <thead>\n",
       "    <tr style=\"text-align: right;\">\n",
       "      <th></th>\n",
       "      <th>customerID</th>\n",
       "      <th>OnlineSecurity</th>\n",
       "      <th>OnlineBackup</th>\n",
       "      <th>DeviceProtection</th>\n",
       "      <th>TechSupport</th>\n",
       "      <th>StreamingTV</th>\n",
       "      <th>StreamingMovies</th>\n",
       "      <th>service_type_DSL</th>\n",
       "      <th>service_type_Fiber optic</th>\n",
       "    </tr>\n",
       "  </thead>\n",
       "  <tbody>\n",
       "    <tr>\n",
       "      <th>0</th>\n",
       "      <td>7590-VHVEG</td>\n",
       "      <td>False</td>\n",
       "      <td>True</td>\n",
       "      <td>False</td>\n",
       "      <td>False</td>\n",
       "      <td>False</td>\n",
       "      <td>False</td>\n",
       "      <td>True</td>\n",
       "      <td>False</td>\n",
       "    </tr>\n",
       "    <tr>\n",
       "      <th>1</th>\n",
       "      <td>5575-GNVDE</td>\n",
       "      <td>True</td>\n",
       "      <td>False</td>\n",
       "      <td>True</td>\n",
       "      <td>False</td>\n",
       "      <td>False</td>\n",
       "      <td>False</td>\n",
       "      <td>True</td>\n",
       "      <td>False</td>\n",
       "    </tr>\n",
       "    <tr>\n",
       "      <th>2</th>\n",
       "      <td>3668-QPYBK</td>\n",
       "      <td>True</td>\n",
       "      <td>True</td>\n",
       "      <td>False</td>\n",
       "      <td>False</td>\n",
       "      <td>False</td>\n",
       "      <td>False</td>\n",
       "      <td>True</td>\n",
       "      <td>False</td>\n",
       "    </tr>\n",
       "    <tr>\n",
       "      <th>3</th>\n",
       "      <td>7795-CFOCW</td>\n",
       "      <td>True</td>\n",
       "      <td>False</td>\n",
       "      <td>True</td>\n",
       "      <td>True</td>\n",
       "      <td>False</td>\n",
       "      <td>False</td>\n",
       "      <td>True</td>\n",
       "      <td>False</td>\n",
       "    </tr>\n",
       "    <tr>\n",
       "      <th>4</th>\n",
       "      <td>9237-HQITU</td>\n",
       "      <td>False</td>\n",
       "      <td>False</td>\n",
       "      <td>False</td>\n",
       "      <td>False</td>\n",
       "      <td>False</td>\n",
       "      <td>False</td>\n",
       "      <td>False</td>\n",
       "      <td>True</td>\n",
       "    </tr>\n",
       "  </tbody>\n",
       "</table>\n",
       "</div>"
      ],
      "text/plain": [
       "   customerID  OnlineSecurity  OnlineBackup  DeviceProtection  TechSupport  \\\n",
       "0  7590-VHVEG           False          True             False        False   \n",
       "1  5575-GNVDE            True         False              True        False   \n",
       "2  3668-QPYBK            True          True             False        False   \n",
       "3  7795-CFOCW            True         False              True         True   \n",
       "4  9237-HQITU           False         False             False        False   \n",
       "\n",
       "   StreamingTV  StreamingMovies  service_type_DSL  service_type_Fiber optic  \n",
       "0        False            False              True                     False  \n",
       "1        False            False              True                     False  \n",
       "2        False            False              True                     False  \n",
       "3        False            False              True                     False  \n",
       "4        False            False             False                      True  "
      ]
     },
     "execution_count": 31,
     "metadata": {},
     "output_type": "execute_result"
    }
   ],
   "source": [
    "service_type = pd.get_dummies(internet.InternetService, prefix='service_type', drop_first=False).astype(bool)\n",
    "internet = internet.join([service_type])\n",
    "internet.drop('InternetService', axis=1, inplace=True)\n",
    "internet.head()"
   ]
  },
  {
   "cell_type": "markdown",
   "id": "095209a2",
   "metadata": {},
   "source": [
    "The `internet` dataset is now cleaned for training."
   ]
  },
  {
   "cell_type": "markdown",
   "id": "895c95a0",
   "metadata": {},
   "source": [
    "#### 2.4 Phone Dataset\n",
    "<a id='2.4'></a>"
   ]
  },
  {
   "cell_type": "markdown",
   "id": "63779424",
   "metadata": {},
   "source": [
    "Lastly, the `phone` dataset is simply a Yes/No column that needs to be represented as a boolean."
   ]
  },
  {
   "cell_type": "code",
   "execution_count": 32,
   "id": "8fbfd8c5",
   "metadata": {},
   "outputs": [
    {
     "data": {
      "text/html": [
       "<div>\n",
       "<style scoped>\n",
       "    .dataframe tbody tr th:only-of-type {\n",
       "        vertical-align: middle;\n",
       "    }\n",
       "\n",
       "    .dataframe tbody tr th {\n",
       "        vertical-align: top;\n",
       "    }\n",
       "\n",
       "    .dataframe thead th {\n",
       "        text-align: right;\n",
       "    }\n",
       "</style>\n",
       "<table border=\"1\" class=\"dataframe\">\n",
       "  <thead>\n",
       "    <tr style=\"text-align: right;\">\n",
       "      <th></th>\n",
       "      <th>customerID</th>\n",
       "      <th>MultipleLines</th>\n",
       "    </tr>\n",
       "  </thead>\n",
       "  <tbody>\n",
       "    <tr>\n",
       "      <th>0</th>\n",
       "      <td>5575-GNVDE</td>\n",
       "      <td>False</td>\n",
       "    </tr>\n",
       "    <tr>\n",
       "      <th>1</th>\n",
       "      <td>3668-QPYBK</td>\n",
       "      <td>False</td>\n",
       "    </tr>\n",
       "    <tr>\n",
       "      <th>2</th>\n",
       "      <td>9237-HQITU</td>\n",
       "      <td>False</td>\n",
       "    </tr>\n",
       "    <tr>\n",
       "      <th>3</th>\n",
       "      <td>9305-CDSKC</td>\n",
       "      <td>True</td>\n",
       "    </tr>\n",
       "    <tr>\n",
       "      <th>4</th>\n",
       "      <td>1452-KIOVK</td>\n",
       "      <td>True</td>\n",
       "    </tr>\n",
       "  </tbody>\n",
       "</table>\n",
       "</div>"
      ],
      "text/plain": [
       "   customerID  MultipleLines\n",
       "0  5575-GNVDE          False\n",
       "1  3668-QPYBK          False\n",
       "2  9237-HQITU          False\n",
       "3  9305-CDSKC           True\n",
       "4  1452-KIOVK           True"
      ]
     },
     "execution_count": 32,
     "metadata": {},
     "output_type": "execute_result"
    }
   ],
   "source": [
    "col_to_bool(phone, ['MultipleLines'], 'Yes', 'No')\n",
    "phone.head()"
   ]
  },
  {
   "cell_type": "markdown",
   "id": "499c5c00",
   "metadata": {},
   "source": [
    "#### 2.5 Preprocessing Conclusions\n",
    "<a id='2.5'></a>"
   ]
  },
  {
   "cell_type": "markdown",
   "id": "dbaafcd4",
   "metadata": {},
   "source": [
    "The datasets have been manipulated both to create new features necessary to represent untrainable data as well as optimize datatypes to improve model training speed.\n",
    "\n",
    "All of our data now is prepared to be explored visually and trained in our model."
   ]
  },
  {
   "cell_type": "markdown",
   "id": "559d16dc",
   "metadata": {},
   "source": [
    "### 3 Exploratory Data Analysis\n",
    "<a id='3'></a>"
   ]
  },
  {
   "cell_type": "markdown",
   "id": "d77c6c5b",
   "metadata": {},
   "source": [
    "#### 3.1 Visualisation\n",
    "<a id='3.1'></a>"
   ]
  },
  {
   "cell_type": "markdown",
   "id": "b9cb48b6",
   "metadata": {},
   "source": [
    "When looking at our data visually, we mostly care about the cancelled contracts versus the ongoing one, so let's split the dataset along our churn value."
   ]
  },
  {
   "cell_type": "code",
   "execution_count": 33,
   "id": "fb37f589",
   "metadata": {},
   "outputs": [
    {
     "name": "stdout",
     "output_type": "stream",
     "text": [
      "(1869, 15)\n",
      "(5174, 15)\n"
     ]
    }
   ],
   "source": [
    "churned = contract[contract.Churned == True]\n",
    "not_churned = contract[contract.Churned == False]\n",
    "print(churned.shape)\n",
    "print(not_churned.shape)"
   ]
  },
  {
   "cell_type": "markdown",
   "id": "c0ede6f9",
   "metadata": {},
   "source": [
    "We definitely have a lot more customers in our set that have kept their contracts than the number of customers that have cancelled them. Let's now try and see if customers tend to cancel after a certain time on their contract. If we look at the length of the contract, we may get some insight into this."
   ]
  },
  {
   "cell_type": "code",
   "execution_count": 34,
   "id": "0d5f86db",
   "metadata": {},
   "outputs": [
    {
     "data": {
      "image/png": "[encoded data removed]",
      "text/plain": [
       "<Figure size 1152x576 with 1 Axes>"
      ]
     },
     "metadata": {},
     "output_type": "display_data"
    }
   ],
   "source": [
    "fig_loc = plt.figure(figsize=(16,8));\n",
    "churned.LengthOfContract.hist(bins=50, alpha=0.6, color='b');\n",
    "not_churned.LengthOfContract.hist(bins=50, alpha=0.5, color='r');\n",
    "fig_loc.legend(labels=['Cancelled', 'Ongoing'])\n",
    "plt.title('Distribution of the Length of Contracts');\n",
    "plt.xlabel('Length of Contract (days)')\n",
    "plt.ylabel('Frequency')\n",
    "plt.show()\n",
    "\n"
   ]
  },
  {
   "cell_type": "markdown",
   "id": "d3b92cf2",
   "metadata": {},
   "source": [
    "It does appear that the majority of cancellations happen within the customer's first 365 days of their contract. This means that this timeframe must be pretty critical where the customer is really deciding if the Interconnect contract is something that they would like to continue using. After one year, it seems to trail pretty low, where they had likely decided that the service is something they want to continue. These few customers could have dropped for anything, such as moving, and may be harder to persuade back into the service. \n",
    "\n",
    "We can also see that those who have not yet churned have been steadily onboarded, as these contracts are since their start date up to February 1, 2020. It is also nice to see that there is a significant amount of folks that have been long time users of the Interconnect services. "
   ]
  },
  {
   "cell_type": "markdown",
   "id": "d34af27e",
   "metadata": {},
   "source": [
    "Next, Let's see how much the contract type may affect the customer's chances of churning."
   ]
  },
  {
   "cell_type": "code",
   "execution_count": 35,
   "id": "3c94f903",
   "metadata": {},
   "outputs": [
    {
     "data": {
      "image/png": "[encoded data removed]",
      "text/plain": [
       "<Figure size 1152x360 with 2 Axes>"
      ]
     },
     "metadata": {},
     "output_type": "display_data"
    }
   ],
   "source": [
    "fig_con, axes = plt.subplots(1,2, figsize=(16,5))\n",
    "y1 = [churned.shape[0]-(churned['type_One year'].sum()+churned['type_Two year'].sum()),\n",
    "      churned['type_One year'].sum(),\n",
    "      churned['type_Two year'].sum()]\n",
    "y2 = [not_churned.shape[0]-(not_churned['type_One year'].sum()+not_churned['type_Two year'].sum()),\n",
    "      not_churned['type_One year'].sum(),\n",
    "      not_churned['type_Two year'].sum()]\n",
    "\n",
    "sns.barplot(x=['Month-to-Month', '1 Year', '2 Year'], y=y1, ax=axes[0])\n",
    "sns.barplot(x=['Month-to-Month', '1 Year', '2 Year'], y=y2, ax=axes[1]);\n",
    "axes[0].set_title('Number of Churned Contracts by Contract Type')\n",
    "axes[0].set_ylabel('Number of Contracts')\n",
    "axes[1].set_title('Number of Ongoing Contracts by Contract Type')\n",
    "axes[1].set_ylabel('Number of Contracts')\n",
    "plt.show()"
   ]
  },
  {
   "cell_type": "markdown",
   "id": "c68c4847",
   "metadata": {},
   "source": [
    "Month-to-month clearly is the majority of customers' contract of choice that have terminated their contract. These customers likely chose month-to-month in the first place, as they were unsure of the services that Interconnect provides. Likely in the Interconnect terms of service, it is easier to break out of a month-to-month contract than it is for a 1 year or 2 year contract. The customers that do not churn are more likely to get on 1 year or 2 year contracts."
   ]
  },
  {
   "cell_type": "markdown",
   "id": "cb2a3914",
   "metadata": {},
   "source": [
    "Similarly, let's check the payment type and see if that has an effect."
   ]
  },
  {
   "cell_type": "code",
   "execution_count": 36,
   "id": "c3ee6d28",
   "metadata": {},
   "outputs": [
    {
     "data": {
      "image/png": "[encoded data removed]",
      "text/plain": [
       "<Figure size 1152x360 with 2 Axes>"
      ]
     },
     "metadata": {},
     "output_type": "display_data"
    }
   ],
   "source": [
    "fig, axes = plt.subplots(1,2, figsize=(16,5))\n",
    "y1 = [churned.shape[0]-(churned['payment_Credit card (automatic)'].sum()+churned['payment_Electronic check'].sum()+churned['payment_Mailed check'].sum()),\n",
    "      churned['payment_Credit card (automatic)'].sum(),\n",
    "      churned['payment_Electronic check'].sum(),\n",
    "      churned['payment_Mailed check'].sum()]\n",
    "y2 = [not_churned.shape[0]-(not_churned['payment_Credit card (automatic)'].sum()+not_churned['payment_Electronic check'].sum()+not_churned['payment_Mailed check'].sum()),\n",
    "      not_churned['payment_Credit card (automatic)'].sum(),\n",
    "      not_churned['payment_Electronic check'].sum(),\n",
    "      not_churned['payment_Mailed check'].sum()]\n",
    "\n",
    "sns.barplot(x=['Bank Transfer\\n(Automatic)', 'Credit Card\\n(Automatic)', 'Electronic Check', 'Mailed Check'], y=y1, ax=axes[0])\n",
    "sns.barplot(x=['Bank Transfer\\n(Automatic)', 'Credit Card\\n(Automatic)', 'Electronic Check', 'Mailed Check'], y=y2, ax=axes[1]);\n",
    "axes[0].set_title('Number of Churned Contracts by Contract Type')\n",
    "axes[0].set_ylabel('Number of Contracts')\n",
    "axes[1].set_title('Number of Ongoing Contracts by Contract Type')\n",
    "axes[1].set_ylabel('Number of Contracts')\n",
    "plt.show()"
   ]
  },
  {
   "cell_type": "markdown",
   "id": "820e2094",
   "metadata": {},
   "source": [
    "Churned customers are more likely to use electronic checks. If the process to send in an electronic check is tedious through Interconnect's payment system, customers may be turned off to the services. Automatic type payments are understandably less hands on, and customers may not think twice about their services if they don't play an active part in paying for the services. \n",
    "Ongoing contracts are much more evenly spread, including electronic checks."
   ]
  },
  {
   "cell_type": "markdown",
   "id": "819e5a94",
   "metadata": {},
   "source": [
    "Lastly, the amount a customer is charged will likely affect their decision to stay on the contract. One might presume a customer paying a large amount would be more inclined to second guess if they really need the service, so let's have a look at that."
   ]
  },
  {
   "cell_type": "code",
   "execution_count": 37,
   "id": "53b54f63",
   "metadata": {},
   "outputs": [
    {
     "data": {
      "image/png": "[encoded data removed]",
      "text/plain": [
       "<Figure size 1152x720 with 1 Axes>"
      ]
     },
     "metadata": {},
     "output_type": "display_data"
    }
   ],
   "source": [
    "fig_mc = plt.figure(figsize=(16, 10))\n",
    "sns.histplot(churned.MonthlyCharges, bins=50, kde=True, stat='density', color='b')\n",
    "sns.histplot(not_churned.MonthlyCharges, bins=50, kde=True, stat='density', color='r');\n",
    "plt.title('Density Distribution of Monthly Charges')\n",
    "plt.xlabel('Monthly Charge Amount')\n",
    "plt.ylabel('Density')\n",
    "plt.legend(labels=['Cancelled', 'Ongoing'])\n",
    "plt.show()"
   ]
  },
  {
   "cell_type": "markdown",
   "id": "a6bd251f",
   "metadata": {},
   "source": [
    "As expected, the cancelled contracts were more inclined to pick up more expensive monthly bills, upwards in the 80 to 100 range. Ongoing contracts were across the board, but were overwhelmingly near 20. Maybe this is those happy long time users we saw before."
   ]
  },
  {
   "cell_type": "markdown",
   "id": "ec28bf8c",
   "metadata": {},
   "source": [
    "#### 3.2 Exploratory Data Analysis Conclusions\n",
    "<a id='3.2'></a>"
   ]
  },
  {
   "cell_type": "markdown",
   "id": "113f797e",
   "metadata": {},
   "source": [
    "From our visual representation of the data, there are already some distinct features about our churned customers. We see that they are typically out of the contract within the first year of the contract. They also tend to be customers who may add more services or pick packages that increase their monthly charges to maybe a level that they decide is too much for their current financial situation to continue. They also tend to choose the month-to-month plan which is easier to leave as is. This likely represents an initial hesitancy of the services to begin with. Lastly, electronic checks seem to be a common payment method for churned customers. This may be a more frustrating process than the company thinks and could cause some folks on the fence to jump off towards cancelling their plan."
   ]
  },
  {
   "cell_type": "markdown",
   "id": "071fe995",
   "metadata": {},
   "source": [
    "### 4 Evaluation\n",
    "<a id='4'></a>"
   ]
  },
  {
   "cell_type": "markdown",
   "id": "fa0e19c6",
   "metadata": {},
   "source": [
    "The model we will create will be evaluated on the AUC-ROC of the predictions. As this is a binary classification problem, the AUC-ROC is one of the best ways to evaluate the predictions. The AUC-ROC is the superstar evaluation as it evaluates classifications in scenarios designed to maximize correct positive calculations while limiting false, positive classifications (type 1 errors). \n",
    "\n",
    "We also will want to make sure we get a reasonable accuracy score. Accuracy is a good baseline of a good model, as ultimately we want to make sure we are making accurate predictions for all data that comes our way. If Accuracy is poor, it should not matter what the AUC-ROC is because we will need to reevaluate our model if it can't generally predict customers that may drop their contract.\n",
    "\n",
    "Lastly, we should look at the confusion matrix. The confusion matrix is a representation of the true-positive, true-negative, false-positive, and false-negative predictions. This way, if we get a good AUC-ROC and good accuracy score, but we have trouble specifically generating a lot of false-positive values, we may making incorrect decisions, and say giving promotions to people who may not actually be planning on leaving."
   ]
  },
  {
   "cell_type": "markdown",
   "id": "ba78f960",
   "metadata": {},
   "source": [
    "With all of this in mind, we should create a function to check these evaluation metrics."
   ]
  },
  {
   "cell_type": "code",
   "execution_count": 38,
   "id": "1147a9f1",
   "metadata": {},
   "outputs": [],
   "source": [
    "def evaluate_model(model, train_features, train_target, test_features, test_target):\n",
    "    '''\n",
    "    This will take our model and data and generate the evaluation metrics that we desire \n",
    "    (AUC-ROC, accuracy, and the confusion metric)\n",
    "    \n",
    "    Keyword arguments:\n",
    "    model -- The model that has already been trained by the training data (a Binary Classifier)\n",
    "    train_features -- The features used to train the model (dataframe)\n",
    "    train_target -- The target used to train the model (series)\n",
    "    test_features -- The features used to test the model (dataframe)\n",
    "    test_target -- The target used to test the model (series)\n",
    "    '''\n",
    "    \n",
    "    # Where our AUC-ROC and accuracy will be stored for the training and test set\n",
    "    eval_stats = {}\n",
    "    \n",
    "    # Subplot for AUC-ROC and confusion matrix\n",
    "    fig, axs = plt.subplots(1, 2, figsize=(20, 6)) \n",
    "    \n",
    "    # Plot training and test AUC-ROC curves on the same plot\n",
    "    for type, features, target in (('train', train_features, train_target), ('test', test_features, test_target)):\n",
    "        \n",
    "        eval_stats[type] = {}\n",
    "    \n",
    "        pred_target = model.predict(features)\n",
    "        \n",
    "        # Some models tend to create the True/False labels as strings rather than boolean, so this is meant\n",
    "        # to check and fix if necessary.\n",
    "        if isinstance(pred_target[0], str):\n",
    "            pred_target = [True if x == 'True' else 'False' for x in pred_target]\n",
    "        pred_proba = model.predict_proba(features)[:, 1]\n",
    "        \n",
    "        # ROC\n",
    "        fpr, tpr, roc_thresholds = metrics.roc_curve(target, pred_proba)\n",
    "        roc_auc = metrics.roc_auc_score(target, pred_proba)    \n",
    "        eval_stats[type]['AUC-ROC'] = roc_auc\n",
    "        \n",
    "        if type == 'train':\n",
    "            color = 'blue'\n",
    "        else:\n",
    "            color = 'green'\n",
    "            \n",
    "        \n",
    "        \n",
    "        # ROC\n",
    "        ax = axs[0]    \n",
    "        ax.plot(fpr, tpr, color=color, label=f'{type}, AUC-ROC={roc_auc:.4f}')\n",
    "        # setting crosses for some thresholds\n",
    "        for threshold in (0.2, 0.4, 0.5, 0.6, 0.8):\n",
    "            closest_value_idx = np.argmin(np.abs(roc_thresholds-threshold))\n",
    "            marker_color = 'orange' if threshold != 0.5 else 'red'            \n",
    "            ax.plot(fpr[closest_value_idx], tpr[closest_value_idx], color=marker_color, marker='X', markersize=7)\n",
    "        ax.plot([0, 1], [0, 1], color='grey', linestyle='--')\n",
    "        ax.set_xlim([-0.02, 1.02])    \n",
    "        ax.set_ylim([-0.02, 1.02])\n",
    "        ax.set_xlabel('FPR')\n",
    "        ax.set_ylabel('TPR')\n",
    "        ax.legend(loc='lower center')        \n",
    "        ax.set_title(f'ROC Curve')   \n",
    "\n",
    "        eval_stats[type]['Accuracy'] = metrics.accuracy_score(target, pred_target)\n",
    "    \n",
    "    # Confusion Matrix\n",
    "    ax = axs[1]\n",
    "    \n",
    "    c_matrix = metrics.confusion_matrix(target, pred_target)\n",
    "    \n",
    "    # Lebel descriptions on each block of the matrix as the descriptor, number of values, and percentage of the whole dataset\n",
    "    type_labels = ['TN', 'FP', 'FN', 'TP']\n",
    "    actual_count = ['{:.0f}'.format(value) for value in c_matrix.flatten()]\n",
    "    perc_count = ['{:.2%}'.format(value) for value in c_matrix.flatten()/sum(c_matrix.flatten())]\n",
    "    group_labels = [f'{name}\\n{num}\\n{perc}' for name, num, perc in zip(type_labels, actual_count, perc_count)]\n",
    "    group_labels = np.array(group_labels).reshape(2,2)\n",
    "    \n",
    "    sns.heatmap(c_matrix, annot=group_labels, fmt='', cbar=False, cmap='binary', ax=ax)\n",
    "    ax.set_xlabel('Predicted Value')\n",
    "    ax.set_ylabel('True Value')\n",
    "    \n",
    "    df_eval_stats = pd.DataFrame(eval_stats)\n",
    "    df_eval_stats = df_eval_stats.round(2)\n",
    "    df_eval_stats = df_eval_stats.reindex(index=('Accuracy', 'AUC-ROC'))\n",
    "    \n",
    "    print(df_eval_stats)\n",
    "    \n",
    "    return "
   ]
  },
  {
   "cell_type": "markdown",
   "id": "1f5b1739",
   "metadata": {},
   "source": [
    "Now that we have the evaluation statistics creation, let's use it on some models."
   ]
  },
  {
   "cell_type": "markdown",
   "id": "546e5b01",
   "metadata": {},
   "source": [
    "### 5 Model Creation\n",
    "<a id='5'></a>"
   ]
  },
  {
   "cell_type": "markdown",
   "id": "c2cf89b6",
   "metadata": {},
   "source": [
    "#### 5.1 Further Data Preparation\n",
    "<a id='5.1'></a>"
   ]
  },
  {
   "cell_type": "markdown",
   "id": "baeaa790",
   "metadata": {},
   "source": [
    "Before we can create the model and train it, we need to combine our data into one set of features, so let's combine the datasets. We can combine them off of the customer ID numbers, as those are identifiers for all sets. We know that the phone and internet contracts use boolean features of whether certain parts of Interconnect's services are a part of the contract. Therefore, we know that if someone does not have an internet contract at all, then they would have none of the individual services in an internet contract. Let's then fill the created null values from the internet and phone datasets with False values."
   ]
  },
  {
   "cell_type": "code",
   "execution_count": 39,
   "id": "8244fb43",
   "metadata": {},
   "outputs": [],
   "source": [
    "contract.set_index('customerID', inplace=True)\n",
    "internet.set_index('customerID', inplace=True)\n",
    "phone.set_index('customerID', inplace=True)\n",
    "personal.set_index('customerID', inplace=True)\n",
    "full_set = contract.join([internet, phone, personal])\n",
    "full_set.fillna(False, inplace=True)"
   ]
  },
  {
   "cell_type": "markdown",
   "id": "8ddbc458",
   "metadata": {},
   "source": [
    "Models typically only train on numerical data or booleans, and it won't train on datetime values. While it was nice to use in our earlier manipulation, we need to remove it when we create our features set and or target. We also will want to drop the Total Charges. Total Charges is dependent on the Monthly Charge extrapolated over the contract length. Although there may be small variances such as fees, over the timeframes of these contracts, the variances would have a minor effect."
   ]
  },
  {
   "cell_type": "code",
   "execution_count": 40,
   "id": "c73b2b70",
   "metadata": {},
   "outputs": [],
   "source": [
    "features = full_set.drop(['BeginDate', 'EndDate', 'Churned', 'TotalCharges'], axis=1)\n",
    "target = full_set.Churned"
   ]
  },
  {
   "cell_type": "markdown",
   "id": "2f4219cb",
   "metadata": {},
   "source": [
    "Next, let's split our data so we can have a proper valid set to evaluate our data, and a test set to get final metrics."
   ]
  },
  {
   "cell_type": "code",
   "execution_count": 41,
   "id": "a40bcb7c",
   "metadata": {},
   "outputs": [],
   "source": [
    "X_train, X_check, y_train, y_check = train_test_split(features, target, test_size=0.50, random_state=12345)\n",
    "X_valid, X_test, y_valid, y_test = train_test_split(X_check, y_check, test_size=0.50, random_state=12345)"
   ]
  },
  {
   "cell_type": "code",
   "execution_count": 42,
   "id": "1c1b4989",
   "metadata": {},
   "outputs": [
    {
     "name": "stdout",
     "output_type": "stream",
     "text": [
      "(3521, 23)\n",
      "(3521,)\n",
      "(1761, 23)\n",
      "(1761,)\n",
      "(1761, 23)\n",
      "(1761,)\n"
     ]
    }
   ],
   "source": [
    "print(X_train.shape)\n",
    "print(y_train.shape)\n",
    "print(X_valid.shape)\n",
    "print(y_valid.shape)\n",
    "print(X_test.shape)\n",
    "print(y_test.shape)"
   ]
  },
  {
   "cell_type": "markdown",
   "id": "38c430e5",
   "metadata": {},
   "source": [
    "No lost information, and it look's like a correct 50/25/25 split."
   ]
  },
  {
   "cell_type": "markdown",
   "id": "cf5d50d5",
   "metadata": {},
   "source": [
    "As we noted previously, the number of ongoing contracts greatly outnumber the amount of cancelled contracts in our sample. Therefore, we should create a set of training data that balances the imbalanced observations. Then we can compare to see how much this helped our models' predictive capabilities."
   ]
  },
  {
   "cell_type": "code",
   "execution_count": 43,
   "id": "b8dab575",
   "metadata": {},
   "outputs": [],
   "source": [
    "sample_boost = SMOTE()\n",
    "X_train_b, y_train_b = sample_boost.fit_resample(X_train, y_train)"
   ]
  },
  {
   "cell_type": "markdown",
   "id": "2718627b",
   "metadata": {},
   "source": [
    "#### 5.2 Model Training\n",
    "<a id='5.2'></a>"
   ]
  },
  {
   "cell_type": "markdown",
   "id": "bd7eff3c",
   "metadata": {},
   "source": [
    "First, Let's create a binary classifier using LightGBM, a high performing and fast training Gradient Boosting model framework. Gradient Boosting is a form of ensemble modelling, where it evaluates the losses of the previously run tree to the next tree that will be trained, and determines the gradient of which the losses have diminished by in each subsequent tree.\n",
    "\n",
    "Let's use the same parameters for two models, and only distinguish the two by using the imbalanced or balanced data."
   ]
  },
  {
   "cell_type": "code",
   "execution_count": 44,
   "id": "3aa45b81",
   "metadata": {},
   "outputs": [],
   "source": [
    "params = {'boosting_type': 'gbdt',\n",
    "          'learning_rate': 0.1,\n",
    "          'max_depth': 100,\n",
    "          'n_estimators': 100,\n",
    "          'num_leaves': 20,\n",
    "          'objective': 'binary',\n",
    "          'random_state': 12345,\n",
    "          'metric': 'binary_logloss',\n",
    "          'silent': True}\n",
    "\n",
    "clf1 = lgb.LGBMClassifier(**params).fit(X_train, y_train);\n",
    "clf1_b = lgb.LGBMClassifier(**params).fit(X_train_b, y_train_b);"
   ]
  },
  {
   "cell_type": "markdown",
   "id": "cb4c5f38",
   "metadata": {},
   "source": [
    "Now that the models are created, we can use our evaluation function on both training sets."
   ]
  },
  {
   "cell_type": "code",
   "execution_count": 45,
   "id": "e7efa829",
   "metadata": {},
   "outputs": [
    {
     "name": "stdout",
     "output_type": "stream",
     "text": [
      "          train  test\n",
      "Accuracy   0.90  0.83\n",
      "AUC-ROC    0.97  0.88\n"
     ]
    },
    {
     "data": {
      "image/png": "[encoded data removed]",
      "text/plain": [
       "<Figure size 1440x432 with 2 Axes>"
      ]
     },
     "metadata": {},
     "output_type": "display_data"
    }
   ],
   "source": [
    "evaluate_model(clf1, X_train, y_train, X_valid, y_valid)"
   ]
  },
  {
   "cell_type": "code",
   "execution_count": 46,
   "id": "1919a597",
   "metadata": {},
   "outputs": [
    {
     "name": "stdout",
     "output_type": "stream",
     "text": [
      "          train  test\n",
      "Accuracy   0.94  0.84\n",
      "AUC-ROC    0.99  0.88\n"
     ]
    },
    {
     "data": {
      "image/png": "[encoded data removed]",
      "text/plain": [
       "<Figure size 1440x432 with 2 Axes>"
      ]
     },
     "metadata": {},
     "output_type": "display_data"
    }
   ],
   "source": [
    "evaluate_model(clf1_b, X_train_b, y_train_b, X_valid, y_valid)"
   ]
  },
  {
   "cell_type": "markdown",
   "id": "62384873",
   "metadata": {},
   "source": [
    "It seems that balancing the data didn't help as much as we may have expected--certainly not on this model. Accuracy and AUC-ROC scores stayed the same, and the confusion matrix didn't really improve, but rather showed us that the model slightly focused more on getting the True Positive predictions correct."
   ]
  },
  {
   "cell_type": "markdown",
   "id": "f39a9835",
   "metadata": {},
   "source": [
    "Now, we should attempt increasing the learning rate, so that we may avoid getting trapped in local minimas. Also, let's increase the number of estimators and leaves of each tree, so that we can get further learning from each estimator, as well as more estimators to evaluate from."
   ]
  },
  {
   "cell_type": "code",
   "execution_count": 47,
   "id": "ff0b2c87",
   "metadata": {},
   "outputs": [],
   "source": [
    "params = {'boosting_type': 'gbdt',\n",
    "          'learning_rate': 0.3,\n",
    "          'max_depth': 100,\n",
    "          'n_estimators': 200,\n",
    "          'num_leaves': 30,\n",
    "          'objective': 'binary',\n",
    "          'random_state': 12345,\n",
    "          'metric': 'binary_logloss',\n",
    "          'silent': True}\n",
    "\n",
    "clf2 = lgb.LGBMClassifier(**params).fit(X_train, y_train);\n",
    "clf2_b = lgb.LGBMClassifier(**params).fit(X_train_b, y_train_b);"
   ]
  },
  {
   "cell_type": "code",
   "execution_count": 48,
   "id": "509f9f58",
   "metadata": {},
   "outputs": [
    {
     "name": "stdout",
     "output_type": "stream",
     "text": [
      "          train  test\n",
      "Accuracy    1.0  0.85\n",
      "AUC-ROC     1.0  0.88\n"
     ]
    },
    {
     "data": {
      "image/png": "[encoded data removed]",
      "text/plain": [
       "<Figure size 1440x432 with 2 Axes>"
      ]
     },
     "metadata": {},
     "output_type": "display_data"
    }
   ],
   "source": [
    "evaluate_model(clf2, X_train, y_train, X_valid, y_valid)"
   ]
  },
  {
   "cell_type": "code",
   "execution_count": 49,
   "id": "395b6076",
   "metadata": {},
   "outputs": [
    {
     "name": "stdout",
     "output_type": "stream",
     "text": [
      "          train  test\n",
      "Accuracy    1.0  0.85\n",
      "AUC-ROC     1.0  0.89\n"
     ]
    },
    {
     "data": {
      "image/png": "[encoded data removed]",
      "text/plain": [
       "<Figure size 1440x432 with 2 Axes>"
      ]
     },
     "metadata": {},
     "output_type": "display_data"
    }
   ],
   "source": [
    "evaluate_model(clf2_b, X_train_b, y_train_b, X_valid, y_valid)"
   ]
  },
  {
   "cell_type": "markdown",
   "id": "6537219e",
   "metadata": {},
   "source": [
    "The AUC-ROC of the SMOTE boosted model only marginally went up, but our accuracy went down. The confusion matrix did not really change all that much either. We would likely still call this our best model however, as the AUC-ROC was our main evaluation. As this model was the best performing, let's check it with our test dataset."
   ]
  },
  {
   "cell_type": "code",
   "execution_count": 50,
   "id": "66c8cd74",
   "metadata": {},
   "outputs": [
    {
     "name": "stdout",
     "output_type": "stream",
     "text": [
      "          train  test\n",
      "Accuracy    1.0  0.84\n",
      "AUC-ROC     1.0  0.89\n"
     ]
    },
    {
     "data": {
      "image/png": "[encoded data removed]",
      "text/plain": [
       "<Figure size 1440x432 with 2 Axes>"
      ]
     },
     "metadata": {},
     "output_type": "display_data"
    }
   ],
   "source": [
    "evaluate_model(clf2_b, X_train_b, y_train_b, X_test, y_test)"
   ]
  },
  {
   "cell_type": "markdown",
   "id": "6eda63bf",
   "metadata": {},
   "source": [
    "An AUC-ROC score of 89%, an accuracy score of 85%, and a relatively acceptable confusion matrix came from our best model that was tested by the validation set and then finalized on our test set."
   ]
  },
  {
   "cell_type": "markdown",
   "id": "d850741e",
   "metadata": {},
   "source": [
    "Let's look into the LightGBM's attribute `feature_importances_` to understand what factored most into the model's decisioning process to label customer's potential to cancel."
   ]
  },
  {
   "cell_type": "code",
   "execution_count": 51,
   "id": "a7236381",
   "metadata": {},
   "outputs": [
    {
     "data": {
      "text/plain": [
       "LengthOfContract                   2064\n",
       "MonthlyCharges                     1990\n",
       "Female                              236\n",
       "Partner                             166\n",
       "payment_Electronic check            158\n",
       "PaperlessBilling                    141\n",
       "OnlineBackup                        111\n",
       "Dependents                          108\n",
       "DeviceProtection                    105\n",
       "MultipleLines                       104\n",
       "payment_Mailed check                 81\n",
       "OnlineSecurity                       79\n",
       "payment_Credit card (automatic)      76\n",
       "StreamingMovies                      76\n",
       "TechSupport                          70\n",
       "type_One year                        65\n",
       "StreamingTV                          61\n",
       "type_Two year                        36\n",
       "phone                                33\n",
       "service_type_Fiber optic             19\n",
       "service_type_DSL                     12\n",
       "internet                              9\n",
       "SeniorCitizen                         0\n",
       "dtype: int32"
      ]
     },
     "execution_count": 51,
     "metadata": {},
     "output_type": "execute_result"
    }
   ],
   "source": [
    "importance = pd.Series(clf2.feature_importances_, index=features.columns)\n",
    "importance.sort_values(ascending=False)"
   ]
  },
  {
   "cell_type": "markdown",
   "id": "88259bd4",
   "metadata": {},
   "source": [
    "As expected, Length of Contract and Monthly Charges were extremely important during training. After those features, gender and relationship status were the most crucial, but by a much slimmer margin. These and the other features are somewhat of a plateau in terms of importance to the modelling."
   ]
  },
  {
   "cell_type": "markdown",
   "id": "21711967",
   "metadata": {},
   "source": [
    "#### 5.3 Model Creation Conclusions\n",
    "<a id='5.3'></a>"
   ]
  },
  {
   "cell_type": "markdown",
   "id": "ea0e273e",
   "metadata": {},
   "source": [
    "The models we created performed successfully, and excelled on all of our evaluation metrics. Balancing our data only marginally helped, but most importantly it helped the models focus a little more on the customers who may actually churn. This comes at the cost of predicting more people would churn even if they still had an ongoing contract. When we increased the speed that the ensemble model learned the losses from, increased the number of estimators, and increased the number of leaves that the decision trees learned with, we got our best results with an AUC-ROC score of 0.89 and an accuracy of 0.85. Our confusion matrix was reassuring, as there were no standouts in the models ability to predict either churned customers or ongoing customers. "
   ]
  },
  {
   "cell_type": "markdown",
   "id": "b753b841",
   "metadata": {},
   "source": [
    "## Final Conclusions\n",
    "<a id='6'></a>"
   ]
  },
  {
   "cell_type": "markdown",
   "id": "62f2a1b6",
   "metadata": {},
   "source": [
    "This project was conducted as a response to a request from the telecom company Interconnect. They requested help to predict whether or not a customer would cancel their contract, so they may be able to attempt to retain them with promotions. The above jupyter notebook was the code and description that lead to a model with a strong ability to predict these customers for Interconnect. We were provided information on over 7000 customers by Interconnect, containing information about:\n",
    "\n",
    "1. their personal information (non-identifying),\n",
    "1. their contract information,\n",
    "1. their internet plan services (if applicable),\n",
    "1. and their phone plan services (if applicable.\n",
    "\n",
    "The initial review and preprocessing were done in accordance to the work plan outlined in the Telecom Work Plan document. The issues found in the work plan, such as mismatched datatypes, were cleaned to visualize and to train our model with. Although we found no nulls, we did find some empty values in the form of a string for recent contract signers that would yet to be charged. As such, we cleaned the data, and created a few new features to represent our length of contract and a boolean of whether or not a customer has cancelled a contract or not.\n",
    "\n",
    "We did not leave in the distributions that were in the work plan, as they were largely used to confirm that this was a diverse group on customers and contracts, so that a model would have a wider range of information to train on. With the plots above, we found that churned customers are typically out of the contract within the first year of the contract. We noticed that they tend to be customers who may add more services or pick packages that increase their monthly charges to maybe a level that they decide is too much for their current financial situation to continue. They also tend to choose the month-to-month plan which is easier to cancel. This likely represents an initial hesitancy of the services to begin with. Lastly, electronic checks were a common payment method for churned customers. Initially, we thought this might mean Interconnect has an electronic check system that may not be user friendly to it's customers.\n",
    "\n",
    "We then created our evaluation function that created metrics and graphical representation of our models. Our work plan initially said that the AUC-ROC score of a model would be the sole evaluation metric. Although it was our focus, we also included the accuracy and confusion matrix, to make sure that in general we were still predicting a fair amount of customers and that we weren't mislabeling one of the two possibilities in particular. The data was then split into features and a target, and a duplicate set was balanced so that the smaller number of churned samples may carry more importance during training. \n",
    "\n",
    "Finally, a few models were created. Balancing the training data and allowing each decision tree of the ensemble have deeper and wider branches produced the best model of the four that were tested. Initially, there were issues in the data preparation for this stage. At first, the target was left in the features, skewing the results positively when the target is not supposed to be known. Addeitionally, when balancing the data with SMOTE, the test data was first balanced as well, which was not correct. only the training data should be balanced, because the test data is still meant to be representative of an actual scenario of a group of customers and their contracts, while boosting the data is only an attempt to give a model more focus on the lesser available data. \n",
    "\n",
    "Using the LightGBM Gradient Boosting API, we successfully got an AUC-ROC score of 89%, an accuracy of 85%, and a promising confusion matrix with only a small percentage of evenly incorrect predictions for both churned and non-churned customers. From this model, we looked into the its generated list of feature importances, or the general weight it holds on the prediction. We noticed that, as we expected from our visualisation, that the length of a contract and the monthly charges were the biggest factors in a person's chances of cancelling a contract. Although the month-to-month and electronic check importance were not very high, this may be the result of data leakage from the length of a contract, and they may share related characteristics."
   ]
  }
 ],
 "metadata": {
  "kernelspec": {
   "display_name": "Python 3",
   "language": "python",
   "name": "python3"
  },
  "language_info": {
   "codemirror_mode": {
    "name": "ipython",
    "version": 3
   },
   "file_extension": ".py",
   "mimetype": "text/x-python",
   "name": "python",
   "nbconvert_exporter": "python",
   "pygments_lexer": "ipython3",
   "version": "3.7.10"
  }
 },
 "nbformat": 4,
 "nbformat_minor": 5
}
